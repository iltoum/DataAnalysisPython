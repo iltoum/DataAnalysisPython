{
  "nbformat": 4,
  "nbformat_minor": 0,
  "metadata": {
    "colab": {
      "name": "DIPLWMATIKI-FINAL.ipynb",
      "provenance": [],
      "collapsed_sections": [],
      "authorship_tag": "ABX9TyNa9FCTA9lA8d3Ai5Sporzg",
      "include_colab_link": true
    },
    "kernelspec": {
      "name": "python3",
      "display_name": "Python 3"
    }
  },
  "cells": [
    {
      "cell_type": "markdown",
      "metadata": {
        "id": "view-in-github",
        "colab_type": "text"
      },
      "source": [
        "<a href=\"https://colab.research.google.com/github/iltoum/DataAnalysisPython/blob/master/DIPLWMATIKI_FINAL.ipynb\" target=\"_parent\"><img src=\"https://colab.research.google.com/assets/colab-badge.svg\" alt=\"Open In Colab\"/></a>"
      ]
    },
    {
      "cell_type": "markdown",
      "metadata": {
        "id": "viYwaIHDiqY1"
      },
      "source": [
        "CONTENT BASED"
      ]
    },
    {
      "cell_type": "code",
      "metadata": {
        "colab": {
          "base_uri": "https://localhost:8080/"
        },
        "id": "lymHa8aid0E5",
        "outputId": "bc725098-3b2d-4226-babc-c2ad8638087a"
      },
      "source": [
        "import pandas as pd\r\n",
        "!pip install rake-nltk\r\n",
        "from rake_nltk import Rake\r\n",
        "import numpy as np\r\n",
        "from sklearn.metrics.pairwise import cosine_similarity\r\n",
        "from sklearn.feature_extraction.text import CountVectorizer"
      ],
      "execution_count": null,
      "outputs": [
        {
          "output_type": "stream",
          "text": [
            "Requirement already satisfied: rake-nltk in /usr/local/lib/python3.6/dist-packages (1.0.4)\n",
            "Requirement already satisfied: nltk in /usr/local/lib/python3.6/dist-packages (from rake-nltk) (3.2.5)\n",
            "Requirement already satisfied: six in /usr/local/lib/python3.6/dist-packages (from nltk->rake-nltk) (1.15.0)\n"
          ],
          "name": "stdout"
        }
      ]
    },
    {
      "cell_type": "code",
      "metadata": {
        "colab": {
          "resources": {
            "http://localhost:8080/nbextensions/google.colab/files.js": {
              "data": "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",
              "ok": true,
              "headers": [
                [
                  "content-type",
                  "application/javascript"
                ]
              ],
              "status": 200,
              "status_text": ""
            }
          },
          "base_uri": "https://localhost:8080/",
          "height": 72
        },
        "id": "efeeMKt3eCfx",
        "outputId": "1f9ff944-7ba1-4700-fd5e-747ef11c9896"
      },
      "source": [
        "from google.colab import files\r\n",
        "uploaded = files.upload()"
      ],
      "execution_count": null,
      "outputs": [
        {
          "output_type": "display_data",
          "data": {
            "text/html": [
              "\n",
              "     <input type=\"file\" id=\"files-3d708958-2aa0-4020-90f6-ac6d2c6f0274\" name=\"files[]\" multiple disabled\n",
              "        style=\"border:none\" />\n",
              "     <output id=\"result-3d708958-2aa0-4020-90f6-ac6d2c6f0274\">\n",
              "      Upload widget is only available when the cell has been executed in the\n",
              "      current browser session. Please rerun this cell to enable.\n",
              "      </output>\n",
              "      <script src=\"/nbextensions/google.colab/files.js\"></script> "
            ],
            "text/plain": [
              "<IPython.core.display.HTML object>"
            ]
          },
          "metadata": {
            "tags": []
          }
        },
        {
          "output_type": "stream",
          "text": [
            "Saving reuters.csv to reuters.csv\n"
          ],
          "name": "stdout"
        }
      ]
    },
    {
      "cell_type": "code",
      "metadata": {
        "id": "juW5Wg0UeLW2"
      },
      "source": [
        "import io\r\n",
        "df_reuters = pd.read_csv(io.BytesIO(uploaded['reuters.csv']))"
      ],
      "execution_count": null,
      "outputs": []
    },
    {
      "cell_type": "code",
      "metadata": {
        "colab": {
          "base_uri": "https://localhost:8080/"
        },
        "id": "brk9bh5OeRXq",
        "outputId": "36acaaf9-42a1-4bc6-c246-683f1c4b1cb7"
      },
      "source": [
        "df_reuters.iloc[0]"
      ],
      "execution_count": null,
      "outputs": [
        {
          "output_type": "execute_result",
          "data": {
            "text/plain": [
              "web-scraper-order                                          1606153665-2067\n",
              "web-scraper-start-url    https://www.reuters.com/news/archive/worldNews...\n",
              "pagination                                                         Earlier\n",
              "pagination-href          https://www.reuters.com/news/archive/worldNews...\n",
              "link                     Armenia, Azerbaijan agree to defuse Nagorno-Ka...\n",
              "link-href                https://www.reuters.com/article/us-armenia-aze...\n",
              "Title                    Armenia, Azerbaijan agree to defuse Nagorno-Ka...\n",
              "Date                                                      October 30, 2020\n",
              "Headline                 GENEVA (Reuters) - The foreign ministers of Ar...\n",
              "Name: 0, dtype: object"
            ]
          },
          "metadata": {
            "tags": []
          },
          "execution_count": 11
        }
      ]
    },
    {
      "cell_type": "code",
      "metadata": {
        "colab": {
          "base_uri": "https://localhost:8080/",
          "height": 204
        },
        "id": "s9NgYmleeUyv",
        "outputId": "3ea4f212-dc62-4823-f078-0c50cfb12754"
      },
      "source": [
        "df_reuters = df_reuters[['Title','Headline']]\r\n",
        "df_reuters.head(5)"
      ],
      "execution_count": null,
      "outputs": [
        {
          "output_type": "execute_result",
          "data": {
            "text/html": [
              "<div>\n",
              "<style scoped>\n",
              "    .dataframe tbody tr th:only-of-type {\n",
              "        vertical-align: middle;\n",
              "    }\n",
              "\n",
              "    .dataframe tbody tr th {\n",
              "        vertical-align: top;\n",
              "    }\n",
              "\n",
              "    .dataframe thead th {\n",
              "        text-align: right;\n",
              "    }\n",
              "</style>\n",
              "<table border=\"1\" class=\"dataframe\">\n",
              "  <thead>\n",
              "    <tr style=\"text-align: right;\">\n",
              "      <th></th>\n",
              "      <th>Title</th>\n",
              "      <th>Headline</th>\n",
              "    </tr>\n",
              "  </thead>\n",
              "  <tbody>\n",
              "    <tr>\n",
              "      <th>0</th>\n",
              "      <td>Armenia, Azerbaijan agree to defuse Nagorno-Ka...</td>\n",
              "      <td>GENEVA (Reuters) - The foreign ministers of Ar...</td>\n",
              "    </tr>\n",
              "    <tr>\n",
              "      <th>1</th>\n",
              "      <td>Dealing with Trump presidency nemesis Iran won...</td>\n",
              "      <td>WASHINGTON (Reuters) - When reality TV star Do...</td>\n",
              "    </tr>\n",
              "    <tr>\n",
              "      <th>2</th>\n",
              "      <td>Exclusive: Russian hackers targeted California...</td>\n",
              "      <td>WASHINGTON (Reuters) - The group of Russian ha...</td>\n",
              "    </tr>\n",
              "    <tr>\n",
              "      <th>3</th>\n",
              "      <td>Spain to send more police to Senegal to curb i...</td>\n",
              "      <td>DAKAR (Reuters) - Spain will increase its poli...</td>\n",
              "    </tr>\n",
              "    <tr>\n",
              "      <th>4</th>\n",
              "      <td>Canada expects six million COVID-19 vaccine do...</td>\n",
              "      <td>(Reuters) - Canada expects to receive six mill...</td>\n",
              "    </tr>\n",
              "  </tbody>\n",
              "</table>\n",
              "</div>"
            ],
            "text/plain": [
              "                                               Title                                           Headline\n",
              "0  Armenia, Azerbaijan agree to defuse Nagorno-Ka...  GENEVA (Reuters) - The foreign ministers of Ar...\n",
              "1  Dealing with Trump presidency nemesis Iran won...  WASHINGTON (Reuters) - When reality TV star Do...\n",
              "2  Exclusive: Russian hackers targeted California...  WASHINGTON (Reuters) - The group of Russian ha...\n",
              "3  Spain to send more police to Senegal to curb i...  DAKAR (Reuters) - Spain will increase its poli...\n",
              "4  Canada expects six million COVID-19 vaccine do...  (Reuters) - Canada expects to receive six mill..."
            ]
          },
          "metadata": {
            "tags": []
          },
          "execution_count": 12
        }
      ]
    },
    {
      "cell_type": "code",
      "metadata": {
        "id": "ZuskyE_veZKo"
      },
      "source": [
        "df_reuters['Headline']=df_reuters['Headline'].apply(str)"
      ],
      "execution_count": null,
      "outputs": []
    },
    {
      "cell_type": "code",
      "metadata": {
        "id": "YVDEqrp2ebdC"
      },
      "source": [
        "df_reuters['Key_words'] = \"\"\r\n",
        "\r\n",
        "for index, row in df_reuters.iterrows():\r\n",
        "    headline = row['Headline']\r\n",
        "    \r\n",
        "    r = Rake()\r\n",
        "\r\n",
        "    r.extract_keywords_from_text(headline)\r\n",
        "\r\n",
        "    key_words_dict_scores = r.get_word_degrees()\r\n",
        "    \r\n",
        "    row['Key_words'] = list(key_words_dict_scores.keys())\r\n",
        "\r\n",
        "df_reuters.drop(columns = ['Headline'], inplace = True)"
      ],
      "execution_count": null,
      "outputs": []
    },
    {
      "cell_type": "code",
      "metadata": {
        "colab": {
          "base_uri": "https://localhost:8080/",
          "height": 235
        },
        "id": "qjN6YzWKeg9_",
        "outputId": "477c7fb4-9ef5-4cae-d419-c5b262ae1694"
      },
      "source": [
        "df_reuters.set_index('Title', inplace = True)\r\n",
        "df_reuters.head(5)"
      ],
      "execution_count": null,
      "outputs": [
        {
          "output_type": "execute_result",
          "data": {
            "text/html": [
              "<div>\n",
              "<style scoped>\n",
              "    .dataframe tbody tr th:only-of-type {\n",
              "        vertical-align: middle;\n",
              "    }\n",
              "\n",
              "    .dataframe tbody tr th {\n",
              "        vertical-align: top;\n",
              "    }\n",
              "\n",
              "    .dataframe thead th {\n",
              "        text-align: right;\n",
              "    }\n",
              "</style>\n",
              "<table border=\"1\" class=\"dataframe\">\n",
              "  <thead>\n",
              "    <tr style=\"text-align: right;\">\n",
              "      <th></th>\n",
              "      <th>Key_words</th>\n",
              "    </tr>\n",
              "    <tr>\n",
              "      <th>Title</th>\n",
              "      <th></th>\n",
              "    </tr>\n",
              "  </thead>\n",
              "  <tbody>\n",
              "    <tr>\n",
              "      <th>Armenia, Azerbaijan agree to defuse Nagorno-Karabakh conflict</th>\n",
              "      <td>[foreign, ministers, killed, nagorno, fighting...</td>\n",
              "    </tr>\n",
              "    <tr>\n",
              "      <th>Dealing with Trump presidency nemesis Iran won't be 'quick, easy' for Biden</th>\n",
              "      <td>[landmark, deal, aimed, stopping, tehran, isla...</td>\n",
              "    </tr>\n",
              "    <tr>\n",
              "      <th>Exclusive: Russian hackers targeted California, Indiana Democratic parties</th>\n",
              "      <td>[indiana, email, accounts, knowledge, accordin...</td>\n",
              "    </tr>\n",
              "    <tr>\n",
              "      <th>Spain to send more police to Senegal to curb illegal migration, says foreign minister</th>\n",
              "      <td>[increase, spain, territory, west, african, co...</td>\n",
              "    </tr>\n",
              "    <tr>\n",
              "      <th>Canada expects six million COVID-19 vaccine doses early in 2021</th>\n",
              "      <td>[2021, regulatory, approval, parliamentary, co...</td>\n",
              "    </tr>\n",
              "  </tbody>\n",
              "</table>\n",
              "</div>"
            ],
            "text/plain": [
              "                                                                                            Key_words\n",
              "Title                                                                                                \n",
              "Armenia, Azerbaijan agree to defuse Nagorno-Kar...  [foreign, ministers, killed, nagorno, fighting...\n",
              "Dealing with Trump presidency nemesis Iran won'...  [landmark, deal, aimed, stopping, tehran, isla...\n",
              "Exclusive: Russian hackers targeted California,...  [indiana, email, accounts, knowledge, accordin...\n",
              "Spain to send more police to Senegal to curb il...  [increase, spain, territory, west, african, co...\n",
              "Canada expects six million COVID-19 vaccine dos...  [2021, regulatory, approval, parliamentary, co..."
            ]
          },
          "metadata": {
            "tags": []
          },
          "execution_count": 15
        }
      ]
    },
    {
      "cell_type": "code",
      "metadata": {
        "colab": {
          "base_uri": "https://localhost:8080/",
          "height": 450
        },
        "id": "HaPnclXDelHv",
        "outputId": "ed0e301a-2e71-4c30-ea33-40943cefcf5c"
      },
      "source": [
        "df_reuters['key_words_string'] = [','.join(map(str, l)) for l in df_reuters['Key_words']]\r\n",
        "df_reuters"
      ],
      "execution_count": null,
      "outputs": [
        {
          "output_type": "execute_result",
          "data": {
            "text/html": [
              "<div>\n",
              "<style scoped>\n",
              "    .dataframe tbody tr th:only-of-type {\n",
              "        vertical-align: middle;\n",
              "    }\n",
              "\n",
              "    .dataframe tbody tr th {\n",
              "        vertical-align: top;\n",
              "    }\n",
              "\n",
              "    .dataframe thead th {\n",
              "        text-align: right;\n",
              "    }\n",
              "</style>\n",
              "<table border=\"1\" class=\"dataframe\">\n",
              "  <thead>\n",
              "    <tr style=\"text-align: right;\">\n",
              "      <th></th>\n",
              "      <th>Key_words</th>\n",
              "      <th>key_words_string</th>\n",
              "    </tr>\n",
              "    <tr>\n",
              "      <th>Title</th>\n",
              "      <th></th>\n",
              "      <th></th>\n",
              "    </tr>\n",
              "  </thead>\n",
              "  <tbody>\n",
              "    <tr>\n",
              "      <th>Armenia, Azerbaijan agree to defuse Nagorno-Karabakh conflict</th>\n",
              "      <td>[foreign, ministers, killed, nagorno, fighting...</td>\n",
              "      <td>foreign,ministers,killed,nagorno,fighting,conf...</td>\n",
              "    </tr>\n",
              "    <tr>\n",
              "      <th>Dealing with Trump presidency nemesis Iran won't be 'quick, easy' for Biden</th>\n",
              "      <td>[landmark, deal, aimed, stopping, tehran, isla...</td>\n",
              "      <td>landmark,deal,aimed,stopping,tehran,islamic,re...</td>\n",
              "    </tr>\n",
              "    <tr>\n",
              "      <th>Exclusive: Russian hackers targeted California, Indiana Democratic parties</th>\n",
              "      <td>[indiana, email, accounts, knowledge, accordin...</td>\n",
              "      <td>indiana,email,accounts,knowledge,according,cal...</td>\n",
              "    </tr>\n",
              "    <tr>\n",
              "      <th>Spain to send more police to Senegal to curb illegal migration, says foreign minister</th>\n",
              "      <td>[increase, spain, territory, west, african, co...</td>\n",
              "      <td>increase,spain,territory,west,african,coast,da...</td>\n",
              "    </tr>\n",
              "    <tr>\n",
              "      <th>Canada expects six million COVID-19 vaccine doses early in 2021</th>\n",
              "      <td>[2021, regulatory, approval, parliamentary, co...</td>\n",
              "      <td>2021,regulatory,approval,parliamentary,committ...</td>\n",
              "    </tr>\n",
              "    <tr>\n",
              "      <th>...</th>\n",
              "      <td>...</td>\n",
              "      <td>...</td>\n",
              "    </tr>\n",
              "    <tr>\n",
              "      <th>Mainland China reports 17 new COVID-19 cases vs. 12 a day earlier</th>\n",
              "      <td>[health, authority, said, country, ’, mainland...</td>\n",
              "      <td>health,authority,said,country,’,mainland,china...</td>\n",
              "    </tr>\n",
              "    <tr>\n",
              "      <th>U.S. accuses eight in alleged plot to harass and intimidate citizens to return to China</th>\n",
              "      <td>[criminal, complaint, unsealed, wednesday, chi...</td>\n",
              "      <td>criminal,complaint,unsealed,wednesday,chinese,...</td>\n",
              "    </tr>\n",
              "    <tr>\n",
              "      <th>Ethiopia sends army into Tigray region, heavy fighting reported</th>\n",
              "      <td>[addis, ababa, heavy, fighting, flared, attack...</td>\n",
              "      <td>addis,ababa,heavy,fighting,flared,attack,feder...</td>\n",
              "    </tr>\n",
              "    <tr>\n",
              "      <th>'People need mountains': Swiss ski resorts buck Alpine lockdowns</th>\n",
              "      <td>[well, crowds, zermatt, normal, operations, sw...</td>\n",
              "      <td>well,crowds,zermatt,normal,operations,switzerl...</td>\n",
              "    </tr>\n",
              "    <tr>\n",
              "      <th>China, Nepal deny Nepali opposition's landgrab accusations</th>\n",
              "      <td>[seized, territory, along, nepal, denied, two,...</td>\n",
              "      <td>seized,territory,along,nepal,denied,two,nation...</td>\n",
              "    </tr>\n",
              "  </tbody>\n",
              "</table>\n",
              "<p>1969 rows × 2 columns</p>\n",
              "</div>"
            ],
            "text/plain": [
              "                                                                                            Key_words                                   key_words_string\n",
              "Title                                                                                                                                                   \n",
              "Armenia, Azerbaijan agree to defuse Nagorno-Kar...  [foreign, ministers, killed, nagorno, fighting...  foreign,ministers,killed,nagorno,fighting,conf...\n",
              "Dealing with Trump presidency nemesis Iran won'...  [landmark, deal, aimed, stopping, tehran, isla...  landmark,deal,aimed,stopping,tehran,islamic,re...\n",
              "Exclusive: Russian hackers targeted California,...  [indiana, email, accounts, knowledge, accordin...  indiana,email,accounts,knowledge,according,cal...\n",
              "Spain to send more police to Senegal to curb il...  [increase, spain, territory, west, african, co...  increase,spain,territory,west,african,coast,da...\n",
              "Canada expects six million COVID-19 vaccine dos...  [2021, regulatory, approval, parliamentary, co...  2021,regulatory,approval,parliamentary,committ...\n",
              "...                                                                                               ...                                                ...\n",
              "Mainland China reports 17 new COVID-19 cases vs...  [health, authority, said, country, ’, mainland...  health,authority,said,country,’,mainland,china...\n",
              "U.S. accuses eight in alleged plot to harass an...  [criminal, complaint, unsealed, wednesday, chi...  criminal,complaint,unsealed,wednesday,chinese,...\n",
              "Ethiopia sends army into Tigray region, heavy f...  [addis, ababa, heavy, fighting, flared, attack...  addis,ababa,heavy,fighting,flared,attack,feder...\n",
              "'People need mountains': Swiss ski resorts buck...  [well, crowds, zermatt, normal, operations, sw...  well,crowds,zermatt,normal,operations,switzerl...\n",
              "China, Nepal deny Nepali opposition's landgrab ...  [seized, territory, along, nepal, denied, two,...  seized,territory,along,nepal,denied,two,nation...\n",
              "\n",
              "[1969 rows x 2 columns]"
            ]
          },
          "metadata": {
            "tags": []
          },
          "execution_count": 16
        }
      ]
    },
    {
      "cell_type": "code",
      "metadata": {
        "colab": {
          "base_uri": "https://localhost:8080/",
          "height": 235
        },
        "id": "65C1LzzwepPT",
        "outputId": "96c89c1e-b45d-4430-b163-615c027f9a45"
      },
      "source": [
        "df_reuters2 = df_reuters.drop('Key_words', 1)\r\n",
        "df_reuters2.head(5)"
      ],
      "execution_count": null,
      "outputs": [
        {
          "output_type": "execute_result",
          "data": {
            "text/html": [
              "<div>\n",
              "<style scoped>\n",
              "    .dataframe tbody tr th:only-of-type {\n",
              "        vertical-align: middle;\n",
              "    }\n",
              "\n",
              "    .dataframe tbody tr th {\n",
              "        vertical-align: top;\n",
              "    }\n",
              "\n",
              "    .dataframe thead th {\n",
              "        text-align: right;\n",
              "    }\n",
              "</style>\n",
              "<table border=\"1\" class=\"dataframe\">\n",
              "  <thead>\n",
              "    <tr style=\"text-align: right;\">\n",
              "      <th></th>\n",
              "      <th>key_words_string</th>\n",
              "    </tr>\n",
              "    <tr>\n",
              "      <th>Title</th>\n",
              "      <th></th>\n",
              "    </tr>\n",
              "  </thead>\n",
              "  <tbody>\n",
              "    <tr>\n",
              "      <th>Armenia, Azerbaijan agree to defuse Nagorno-Karabakh conflict</th>\n",
              "      <td>foreign,ministers,killed,nagorno,fighting,conf...</td>\n",
              "    </tr>\n",
              "    <tr>\n",
              "      <th>Dealing with Trump presidency nemesis Iran won't be 'quick, easy' for Biden</th>\n",
              "      <td>landmark,deal,aimed,stopping,tehran,islamic,re...</td>\n",
              "    </tr>\n",
              "    <tr>\n",
              "      <th>Exclusive: Russian hackers targeted California, Indiana Democratic parties</th>\n",
              "      <td>indiana,email,accounts,knowledge,according,cal...</td>\n",
              "    </tr>\n",
              "    <tr>\n",
              "      <th>Spain to send more police to Senegal to curb illegal migration, says foreign minister</th>\n",
              "      <td>increase,spain,territory,west,african,coast,da...</td>\n",
              "    </tr>\n",
              "    <tr>\n",
              "      <th>Canada expects six million COVID-19 vaccine doses early in 2021</th>\n",
              "      <td>2021,regulatory,approval,parliamentary,committ...</td>\n",
              "    </tr>\n",
              "  </tbody>\n",
              "</table>\n",
              "</div>"
            ],
            "text/plain": [
              "                                                                                     key_words_string\n",
              "Title                                                                                                \n",
              "Armenia, Azerbaijan agree to defuse Nagorno-Kar...  foreign,ministers,killed,nagorno,fighting,conf...\n",
              "Dealing with Trump presidency nemesis Iran won'...  landmark,deal,aimed,stopping,tehran,islamic,re...\n",
              "Exclusive: Russian hackers targeted California,...  indiana,email,accounts,knowledge,according,cal...\n",
              "Spain to send more police to Senegal to curb il...  increase,spain,territory,west,african,coast,da...\n",
              "Canada expects six million COVID-19 vaccine dos...  2021,regulatory,approval,parliamentary,committ..."
            ]
          },
          "metadata": {
            "tags": []
          },
          "execution_count": 18
        }
      ]
    },
    {
      "cell_type": "code",
      "metadata": {
        "colab": {
          "base_uri": "https://localhost:8080/"
        },
        "id": "KRGLrXN6euKA",
        "outputId": "35a7b776-eb59-4ed0-a7e2-734caf6f0898"
      },
      "source": [
        "count = CountVectorizer()\r\n",
        "count_matrix = count.fit_transform(df_reuters['key_words_string'])\r\n",
        "\r\n",
        "\r\n",
        "indices = pd.Series(df_reuters.index)\r\n",
        "indices[:5]"
      ],
      "execution_count": null,
      "outputs": [
        {
          "output_type": "execute_result",
          "data": {
            "text/plain": [
              "0    Armenia, Azerbaijan agree to defuse Nagorno-Ka...\n",
              "1    Dealing with Trump presidency nemesis Iran won...\n",
              "2    Exclusive: Russian hackers targeted California...\n",
              "3    Spain to send more police to Senegal to curb i...\n",
              "4    Canada expects six million COVID-19 vaccine do...\n",
              "Name: Title, dtype: object"
            ]
          },
          "metadata": {
            "tags": []
          },
          "execution_count": 19
        }
      ]
    },
    {
      "cell_type": "code",
      "metadata": {
        "colab": {
          "base_uri": "https://localhost:8080/"
        },
        "id": "3Mb-S7Q-ezJr",
        "outputId": "abd7805c-51f6-430c-f93b-c0cf82cdf4cb"
      },
      "source": [
        "cosine_sim = cosine_similarity(count_matrix, count_matrix)\r\n",
        "cosine_sim"
      ],
      "execution_count": null,
      "outputs": [
        {
          "output_type": "execute_result",
          "data": {
            "text/plain": [
              "array([[1.        , 0.03806935, 0.03872015, ..., 0.13043478, 0.04089304,\n",
              "        0.09567297],\n",
              "       [0.03806935, 1.        , 0.06780635, ..., 0.03806935, 0.03580574,\n",
              "        0.04188539],\n",
              "       [0.03872015, 0.06780635, 1.        , ..., 0.03872015, 0.03641785,\n",
              "        0.04260143],\n",
              "       ...,\n",
              "       [0.13043478, 0.03806935, 0.03872015, ..., 1.        , 0.08178608,\n",
              "        0.09567297],\n",
              "       [0.04089304, 0.03580574, 0.03641785, ..., 0.08178608, 1.        ,\n",
              "        0.04499213],\n",
              "       [0.09567297, 0.04188539, 0.04260143, ..., 0.09567297, 0.04499213,\n",
              "        1.        ]])"
            ]
          },
          "metadata": {
            "tags": []
          },
          "execution_count": 20
        }
      ]
    },
    {
      "cell_type": "code",
      "metadata": {
        "id": "Js4IwQc5e2bR"
      },
      "source": [
        "def recommendations(Title, cosine_sim = cosine_sim):\r\n",
        "    \r\n",
        "    recommended_movies = pd.DataFrame()\r\n",
        "    \r\n",
        "    idx = indices[indices == Title].index[0]\r\n",
        "\r\n",
        "    score_series = pd.Series(cosine_sim[idx]).sort_values(ascending = False)\r\n",
        "  \r\n",
        "    top_10_indexes = list(score_series.index)\r\n",
        "    \r\n",
        "    for i in top_10_indexes:\r\n",
        "        recommended_movies=recommended_movies.append([[df_reuters2.index[i],score_series.loc[i]]])\r\n",
        "        \r\n",
        "    return recommended_movies"
      ],
      "execution_count": null,
      "outputs": []
    },
    {
      "cell_type": "code",
      "metadata": {
        "id": "pDQW07hAe77w"
      },
      "source": [
        "content=recommendations('Armenia, Azerbaijan agree to defuse Nagorno-Karabakh conflict')"
      ],
      "execution_count": null,
      "outputs": []
    },
    {
      "cell_type": "code",
      "metadata": {
        "colab": {
          "base_uri": "https://localhost:8080/",
          "height": 359
        },
        "id": "SiXq86Kae_Xi",
        "outputId": "2abf2038-d029-455a-c9a9-b6c3dd860880"
      },
      "source": [
        "content.head(10)"
      ],
      "execution_count": null,
      "outputs": [
        {
          "output_type": "execute_result",
          "data": {
            "text/html": [
              "<div>\n",
              "<style scoped>\n",
              "    .dataframe tbody tr th:only-of-type {\n",
              "        vertical-align: middle;\n",
              "    }\n",
              "\n",
              "    .dataframe tbody tr th {\n",
              "        vertical-align: top;\n",
              "    }\n",
              "\n",
              "    .dataframe thead th {\n",
              "        text-align: right;\n",
              "    }\n",
              "</style>\n",
              "<table border=\"1\" class=\"dataframe\">\n",
              "  <thead>\n",
              "    <tr style=\"text-align: right;\">\n",
              "      <th></th>\n",
              "      <th>0</th>\n",
              "      <th>1</th>\n",
              "    </tr>\n",
              "  </thead>\n",
              "  <tbody>\n",
              "    <tr>\n",
              "      <th>0</th>\n",
              "      <td>Armenia, Azerbaijan agree to defuse Nagorno-Ka...</td>\n",
              "      <td>1.000000</td>\n",
              "    </tr>\n",
              "    <tr>\n",
              "      <th>0</th>\n",
              "      <td>Armenia, Azerbaijan agree to defuse Nagorno-Ka...</td>\n",
              "      <td>0.621874</td>\n",
              "    </tr>\n",
              "    <tr>\n",
              "      <th>0</th>\n",
              "      <td>Turkey says Azerbaijan achieved 'sacred succes...</td>\n",
              "      <td>0.430528</td>\n",
              "    </tr>\n",
              "    <tr>\n",
              "      <th>0</th>\n",
              "      <td>Armenia, Azerbaijan, Russia say sign deal to e...</td>\n",
              "      <td>0.404577</td>\n",
              "    </tr>\n",
              "    <tr>\n",
              "      <th>0</th>\n",
              "      <td>Russia says discussing U.N. presence in Nagorn...</td>\n",
              "      <td>0.383065</td>\n",
              "    </tr>\n",
              "    <tr>\n",
              "      <th>0</th>\n",
              "      <td>Azerbaijan's president says deal is signed to ...</td>\n",
              "      <td>0.354005</td>\n",
              "    </tr>\n",
              "    <tr>\n",
              "      <th>0</th>\n",
              "      <td>Leader of Nagorno-Karabakh says ceasefire with...</td>\n",
              "      <td>0.344031</td>\n",
              "    </tr>\n",
              "    <tr>\n",
              "      <th>0</th>\n",
              "      <td>Putin calls for Turkish involvement in Nagorno...</td>\n",
              "      <td>0.327144</td>\n",
              "    </tr>\n",
              "    <tr>\n",
              "      <th>0</th>\n",
              "      <td>Turkey says in talks on how to monitor Karabak...</td>\n",
              "      <td>0.321029</td>\n",
              "    </tr>\n",
              "    <tr>\n",
              "      <th>0</th>\n",
              "      <td>Russia reinforces border guards in Armenia aft...</td>\n",
              "      <td>0.318511</td>\n",
              "    </tr>\n",
              "  </tbody>\n",
              "</table>\n",
              "</div>"
            ],
            "text/plain": [
              "                                                   0         1\n",
              "0  Armenia, Azerbaijan agree to defuse Nagorno-Ka...  1.000000\n",
              "0  Armenia, Azerbaijan agree to defuse Nagorno-Ka...  0.621874\n",
              "0  Turkey says Azerbaijan achieved 'sacred succes...  0.430528\n",
              "0  Armenia, Azerbaijan, Russia say sign deal to e...  0.404577\n",
              "0  Russia says discussing U.N. presence in Nagorn...  0.383065\n",
              "0  Azerbaijan's president says deal is signed to ...  0.354005\n",
              "0  Leader of Nagorno-Karabakh says ceasefire with...  0.344031\n",
              "0  Putin calls for Turkish involvement in Nagorno...  0.327144\n",
              "0  Turkey says in talks on how to monitor Karabak...  0.321029\n",
              "0  Russia reinforces border guards in Armenia aft...  0.318511"
            ]
          },
          "metadata": {
            "tags": []
          },
          "execution_count": 23
        }
      ]
    },
    {
      "cell_type": "code",
      "metadata": {
        "id": "sDv8GSr5fChZ"
      },
      "source": [
        "content.to_csv('contentrating.csv')"
      ],
      "execution_count": null,
      "outputs": []
    },
    {
      "cell_type": "markdown",
      "metadata": {
        "id": "UFuB94PziyFe"
      },
      "source": [
        "COLLABORATIVE"
      ]
    },
    {
      "cell_type": "code",
      "metadata": {
        "id": "Q3r2LcdYfGAe"
      },
      "source": [
        "import pandas as pd"
      ],
      "execution_count": null,
      "outputs": []
    },
    {
      "cell_type": "code",
      "metadata": {
        "colab": {
          "resources": {
            "http://localhost:8080/nbextensions/google.colab/files.js": {
              "data": "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",
              "ok": true,
              "headers": [
                [
                  "content-type",
                  "application/javascript"
                ]
              ],
              "status": 200,
              "status_text": ""
            }
          },
          "base_uri": "https://localhost:8080/",
          "height": 72
        },
        "id": "hKgWwdg1fI5w",
        "outputId": "81cde547-acc2-4e67-a1a3-3507da2a1ff9"
      },
      "source": [
        "from google.colab import files\r\n",
        "uploaded = files.upload()"
      ],
      "execution_count": null,
      "outputs": [
        {
          "output_type": "display_data",
          "data": {
            "text/html": [
              "\n",
              "     <input type=\"file\" id=\"files-fe283f0d-2217-4f5d-8812-8a3a834dd214\" name=\"files[]\" multiple disabled\n",
              "        style=\"border:none\" />\n",
              "     <output id=\"result-fe283f0d-2217-4f5d-8812-8a3a834dd214\">\n",
              "      Upload widget is only available when the cell has been executed in the\n",
              "      current browser session. Please rerun this cell to enable.\n",
              "      </output>\n",
              "      <script src=\"/nbextensions/google.colab/files.js\"></script> "
            ],
            "text/plain": [
              "<IPython.core.display.HTML object>"
            ]
          },
          "metadata": {
            "tags": []
          }
        },
        {
          "output_type": "stream",
          "text": [
            "Saving ratings2.csv to ratings2.csv\n"
          ],
          "name": "stdout"
        }
      ]
    },
    {
      "cell_type": "code",
      "metadata": {
        "id": "xX-svZ1xfPO8"
      },
      "source": [
        "import io\r\n",
        "df_ratings = pd.read_csv(io.BytesIO(uploaded['ratings2.csv']))"
      ],
      "execution_count": null,
      "outputs": []
    },
    {
      "cell_type": "code",
      "metadata": {
        "colab": {
          "base_uri": "https://localhost:8080/",
          "height": 204
        },
        "id": "gbNoxv65fQgO",
        "outputId": "ebc572bc-5833-46a4-f70c-3754f43da90d"
      },
      "source": [
        "df_ratings.head(5)"
      ],
      "execution_count": null,
      "outputs": [
        {
          "output_type": "execute_result",
          "data": {
            "text/html": [
              "<div>\n",
              "<style scoped>\n",
              "    .dataframe tbody tr th:only-of-type {\n",
              "        vertical-align: middle;\n",
              "    }\n",
              "\n",
              "    .dataframe tbody tr th {\n",
              "        vertical-align: top;\n",
              "    }\n",
              "\n",
              "    .dataframe thead th {\n",
              "        text-align: right;\n",
              "    }\n",
              "</style>\n",
              "<table border=\"1\" class=\"dataframe\">\n",
              "  <thead>\n",
              "    <tr style=\"text-align: right;\">\n",
              "      <th></th>\n",
              "      <th>UserID</th>\n",
              "      <th>ArticleID</th>\n",
              "      <th>Ratings</th>\n",
              "    </tr>\n",
              "  </thead>\n",
              "  <tbody>\n",
              "    <tr>\n",
              "      <th>0</th>\n",
              "      <td>1</td>\n",
              "      <td>Armenia, Azerbaijan agree to defuse Nagorno-Ka...</td>\n",
              "      <td>2</td>\n",
              "    </tr>\n",
              "    <tr>\n",
              "      <th>1</th>\n",
              "      <td>1</td>\n",
              "      <td>Dealing with Trump presidency nemesis Iran won...</td>\n",
              "      <td>1</td>\n",
              "    </tr>\n",
              "    <tr>\n",
              "      <th>2</th>\n",
              "      <td>1</td>\n",
              "      <td>Exclusive: Russian hackers targeted California...</td>\n",
              "      <td>3</td>\n",
              "    </tr>\n",
              "    <tr>\n",
              "      <th>3</th>\n",
              "      <td>1</td>\n",
              "      <td>Spain to send more police to Senegal to curb i...</td>\n",
              "      <td>4</td>\n",
              "    </tr>\n",
              "    <tr>\n",
              "      <th>4</th>\n",
              "      <td>1</td>\n",
              "      <td>Canada expects six million COVID-19 vaccine do...</td>\n",
              "      <td>5</td>\n",
              "    </tr>\n",
              "  </tbody>\n",
              "</table>\n",
              "</div>"
            ],
            "text/plain": [
              "   UserID                                          ArticleID  Ratings\n",
              "0       1  Armenia, Azerbaijan agree to defuse Nagorno-Ka...        2\n",
              "1       1  Dealing with Trump presidency nemesis Iran won...        1\n",
              "2       1  Exclusive: Russian hackers targeted California...        3\n",
              "3       1  Spain to send more police to Senegal to curb i...        4\n",
              "4       1  Canada expects six million COVID-19 vaccine do...        5"
            ]
          },
          "metadata": {
            "tags": []
          },
          "execution_count": 28
        }
      ]
    },
    {
      "cell_type": "code",
      "metadata": {
        "colab": {
          "base_uri": "https://localhost:8080/"
        },
        "id": "IOEsBPx2fWGm",
        "outputId": "7e1b16ef-c4d4-4614-d70b-c16f77682447"
      },
      "source": [
        "df_ratings = df_ratings.sample(50)\r\n",
        "print(df_ratings)"
      ],
      "execution_count": null,
      "outputs": [
        {
          "output_type": "stream",
          "text": [
            "     UserID                                          ArticleID  Ratings\n",
            "124       3  Polish cardinal accused of sexual abuse dies a...        3\n",
            "130       3  Syrian satirist questioned over 'Macron' flogg...        2\n",
            "29        1  Veteran Syrian diplomat Mekdad named foreign m...        5\n",
            "92        2  Factbox: As mediation calls mount, who has lev...        5\n",
            "119       3  No more bullying': fresh start to U.S.-Mexico ...        2\n",
            "323       7  Veteran Syrian diplomat Mekdad named foreign m...        3\n",
            "171       4  Burkina opposition candidate alleges 'massive ...        2\n",
            "460      10  Japan opens airport coronavirus test lab for d...        4\n",
            "54        2             France reports 271 new COVID-19 deaths        2\n",
            "51        2  Exclusive: Russian hackers targeted California...        3\n",
            "287       6  Australia alleges military carried out unlawfu...        1\n",
            "319       7  Italy has 48 hours to approve new COVID-19 res...        2\n",
            "258       6  COVID-19 cases soar in Brazil's largest indige...        4\n",
            "338       7  Palestinian Authority resuming cooperation wit...        4\n",
            "268       6  Taiwan hopes for close U.S. cooperation in cal...        1\n",
            "237       5  Turkey says it will congratulate U.S. election...        5\n",
            "415       9  Taiwan hopes for close U.S. cooperation in cal...        1\n",
            "62        2  COVID-19 cases soar in Brazil's largest indige...        4\n",
            "385       8  Australia alleges military carried out unlawfu...        4\n",
            "197       5  Dealing with Trump presidency nemesis Iran won...        5\n",
            "409       9  South Korea's Moon congratulates Biden, to ens...        2\n",
            "455      10  England will need five days of lockdown for ea...        5\n",
            "320       7  Polish cardinal accused of sexual abuse dies a...        2\n",
            "265       6  Thank you Tegel: Berliners bid emotional farew...        3\n",
            "289       6  Palestinian Authority resuming cooperation wit...        5\n",
            "313       7  Japan opens airport coronavirus test lab for d...        5\n",
            "43        1  Factbox: As mediation calls mount, who has lev...        2\n",
            "379       8  Pompeo says Europe, U.S. need to work together...        5\n",
            "13        1  COVID-19 cases soar in Brazil's largest indige...        1\n",
            "404       9  Gunmen kill at least 11 in attack on Iraqi arm...        5\n",
            "262       6  South Korea's Moon congratulates Biden, to ens...        2\n",
            "410       9  Ethiopia's Tigray forces' leader denies region...        3\n",
            "464      10  Taiwan hopes for close U.S. cooperation in cal...        3\n",
            "6         1  Pakistan minister deletes tweet containing Mac...        3\n",
            "221       5  Italy has 48 hours to approve new COVID-19 res...        3\n",
            "77        2  Poland looks into coronavirus risks at mink farms        5\n",
            "359       8  Saudi minister Al-Jubeir says Vienna attack is...        3\n",
            "181       4  U.N. chief congratulates Biden, says U.S. 'ess...        5\n",
            "93        2  Palestinian Authority resuming cooperation wit...        4\n",
            "42        1  Australia alleges military carried out unlawfu...        4\n",
            "134       3  Pompeo says Europe, U.S. need to work together...        1\n",
            "296       7  Exclusive: Russian hackers targeted California...        3\n",
            "20        1  Thank you Tegel: Berliners bid emotional farew...        3\n",
            "348       8             France reports 271 new COVID-19 deaths        4\n",
            "137       3  Portugal's president ponders COVID-19 state of...        5\n",
            "413       9  No more bullying': fresh start to U.S.-Mexico ...        3\n",
            "96        2  Czechs mark anniversary of Velvet Revolution a...        3\n",
            "368       8  Italy has 48 hours to approve new COVID-19 res...        4\n",
            "443      10  Exclusive: Russian hackers targeted California...        4\n",
            "461      10  Thank you Tegel: Berliners bid emotional farew...        4\n"
          ],
          "name": "stdout"
        }
      ]
    },
    {
      "cell_type": "code",
      "metadata": {
        "colab": {
          "base_uri": "https://localhost:8080/"
        },
        "id": "5RrSL8H7faLC",
        "outputId": "c3669eb3-0e36-4f41-887e-8d547f2d1a7c"
      },
      "source": [
        "raters=df_ratings.groupby(['ArticleID'])['Ratings'].count()\r\n",
        "print(raters)"
      ],
      "execution_count": null,
      "outputs": [
        {
          "output_type": "stream",
          "text": [
            "ArticleID\n",
            "Australia alleges military carried out unlawful killings in Afghanistan               3\n",
            "Burkina opposition candidate alleges 'massive fraud' ahead of Sunday vote             1\n",
            "COVID-19 cases soar in Brazil's largest indigenous reservation                        3\n",
            "Czechs mark anniversary of Velvet Revolution amid pandemic                            1\n",
            "Dealing with Trump presidency nemesis Iran won't be 'quick, easy' for Biden           1\n",
            "England will need five days of lockdown for each day relaxed at Christmas: adviser    1\n",
            "Ethiopia's Tigray forces' leader denies regional capital circled                      1\n",
            "Exclusive: Russian hackers targeted California, Indiana Democratic parties            3\n",
            "Factbox: As mediation calls mount, who has leverage in Ethiopia?                      2\n",
            "France reports 271 new COVID-19 deaths                                                2\n",
            "Gunmen kill at least 11 in attack on Iraqi army post in Baghdad, sources say          1\n",
            "Italy has 48 hours to approve new COVID-19 restrictions: Health Minister              3\n",
            "Japan opens airport coronavirus test lab for departing travellers                     2\n",
            "No more bullying': fresh start to U.S.-Mexico relations eyed under Biden              2\n",
            "Pakistan minister deletes tweet containing Macron Nazi jibe                           1\n",
            "Palestinian Authority resuming cooperation with Israel, Palestinian official says     3\n",
            "Poland looks into coronavirus risks at mink farms                                     1\n",
            "Polish cardinal accused of sexual abuse dies aged 97                                  2\n",
            "Pompeo says Europe, U.S. need to work together to address Turkey                      2\n",
            "Portugal's president ponders COVID-19 state of emergency                              1\n",
            "Saudi minister Al-Jubeir says Vienna attack is a crime contrary to all religions      1\n",
            "South Korea's Moon congratulates Biden, to ensure no gap in U.S. alliance             2\n",
            "Syrian satirist questioned over 'Macron' flogging stunt in Berlin                     1\n",
            "Taiwan hopes for close U.S. cooperation in call with Biden adviser                    3\n",
            "Thank you Tegel: Berliners bid emotional farewell to Cold War airport                 3\n",
            "Turkey says it will congratulate U.S. election winner once result finalised           1\n",
            "U.N. chief congratulates Biden, says U.S. 'essential' to global cooperation           1\n",
            "Veteran Syrian diplomat Mekdad named foreign minister, state media says               2\n",
            "Name: Ratings, dtype: int64\n"
          ],
          "name": "stdout"
        }
      ]
    },
    {
      "cell_type": "code",
      "metadata": {
        "id": "D3J2UD3Zfei_"
      },
      "source": [
        "data=df_ratings.merge(raters,on='ArticleID')\r\n",
        "data['count']=data['Ratings_y']\r\n",
        "data['Ratings']= data['Ratings_x']\r\n",
        "data.drop(['Ratings_x','Ratings_y'],axis=1,inplace=True)"
      ],
      "execution_count": null,
      "outputs": []
    },
    {
      "cell_type": "code",
      "metadata": {
        "colab": {
          "base_uri": "https://localhost:8080/",
          "height": 204
        },
        "id": "Yj2NGdyUfjlw",
        "outputId": "b61cd56a-fb51-4df9-db0c-3d77077fdeb1"
      },
      "source": [
        "data.head(5)"
      ],
      "execution_count": null,
      "outputs": [
        {
          "output_type": "execute_result",
          "data": {
            "text/html": [
              "<div>\n",
              "<style scoped>\n",
              "    .dataframe tbody tr th:only-of-type {\n",
              "        vertical-align: middle;\n",
              "    }\n",
              "\n",
              "    .dataframe tbody tr th {\n",
              "        vertical-align: top;\n",
              "    }\n",
              "\n",
              "    .dataframe thead th {\n",
              "        text-align: right;\n",
              "    }\n",
              "</style>\n",
              "<table border=\"1\" class=\"dataframe\">\n",
              "  <thead>\n",
              "    <tr style=\"text-align: right;\">\n",
              "      <th></th>\n",
              "      <th>UserID</th>\n",
              "      <th>ArticleID</th>\n",
              "      <th>count</th>\n",
              "      <th>Ratings</th>\n",
              "    </tr>\n",
              "  </thead>\n",
              "  <tbody>\n",
              "    <tr>\n",
              "      <th>0</th>\n",
              "      <td>3</td>\n",
              "      <td>Polish cardinal accused of sexual abuse dies a...</td>\n",
              "      <td>2</td>\n",
              "      <td>3</td>\n",
              "    </tr>\n",
              "    <tr>\n",
              "      <th>1</th>\n",
              "      <td>7</td>\n",
              "      <td>Polish cardinal accused of sexual abuse dies a...</td>\n",
              "      <td>2</td>\n",
              "      <td>2</td>\n",
              "    </tr>\n",
              "    <tr>\n",
              "      <th>2</th>\n",
              "      <td>3</td>\n",
              "      <td>Syrian satirist questioned over 'Macron' flogg...</td>\n",
              "      <td>1</td>\n",
              "      <td>2</td>\n",
              "    </tr>\n",
              "    <tr>\n",
              "      <th>3</th>\n",
              "      <td>1</td>\n",
              "      <td>Veteran Syrian diplomat Mekdad named foreign m...</td>\n",
              "      <td>2</td>\n",
              "      <td>5</td>\n",
              "    </tr>\n",
              "    <tr>\n",
              "      <th>4</th>\n",
              "      <td>7</td>\n",
              "      <td>Veteran Syrian diplomat Mekdad named foreign m...</td>\n",
              "      <td>2</td>\n",
              "      <td>3</td>\n",
              "    </tr>\n",
              "  </tbody>\n",
              "</table>\n",
              "</div>"
            ],
            "text/plain": [
              "   UserID                                          ArticleID  count  Ratings\n",
              "0       3  Polish cardinal accused of sexual abuse dies a...      2        3\n",
              "1       7  Polish cardinal accused of sexual abuse dies a...      2        2\n",
              "2       3  Syrian satirist questioned over 'Macron' flogg...      1        2\n",
              "3       1  Veteran Syrian diplomat Mekdad named foreign m...      2        5\n",
              "4       7  Veteran Syrian diplomat Mekdad named foreign m...      2        3"
            ]
          },
          "metadata": {
            "tags": []
          },
          "execution_count": 32
        }
      ]
    },
    {
      "cell_type": "code",
      "metadata": {
        "colab": {
          "base_uri": "https://localhost:8080/"
        },
        "id": "ACVG0Nbzfnwy",
        "outputId": "58075d47-5acd-493f-d2fd-dd5aa367883e"
      },
      "source": [
        "data.shape"
      ],
      "execution_count": null,
      "outputs": [
        {
          "output_type": "execute_result",
          "data": {
            "text/plain": [
              "(50, 4)"
            ]
          },
          "metadata": {
            "tags": []
          },
          "execution_count": 33
        }
      ]
    },
    {
      "cell_type": "code",
      "metadata": {
        "id": "gCjP9NfIfqnL"
      },
      "source": [
        "selfjoined = data.merge(data,on='UserID')"
      ],
      "execution_count": null,
      "outputs": []
    },
    {
      "cell_type": "code",
      "metadata": {
        "colab": {
          "base_uri": "https://localhost:8080/",
          "height": 204
        },
        "id": "GJtcANj3fuEg",
        "outputId": "79aecd71-d273-4825-dffa-2106cfe196a7"
      },
      "source": [
        "selfjoined.head(5)"
      ],
      "execution_count": null,
      "outputs": [
        {
          "output_type": "execute_result",
          "data": {
            "text/html": [
              "<div>\n",
              "<style scoped>\n",
              "    .dataframe tbody tr th:only-of-type {\n",
              "        vertical-align: middle;\n",
              "    }\n",
              "\n",
              "    .dataframe tbody tr th {\n",
              "        vertical-align: top;\n",
              "    }\n",
              "\n",
              "    .dataframe thead th {\n",
              "        text-align: right;\n",
              "    }\n",
              "</style>\n",
              "<table border=\"1\" class=\"dataframe\">\n",
              "  <thead>\n",
              "    <tr style=\"text-align: right;\">\n",
              "      <th></th>\n",
              "      <th>UserID</th>\n",
              "      <th>ArticleID_x</th>\n",
              "      <th>count_x</th>\n",
              "      <th>Ratings_x</th>\n",
              "      <th>ArticleID_y</th>\n",
              "      <th>count_y</th>\n",
              "      <th>Ratings_y</th>\n",
              "    </tr>\n",
              "  </thead>\n",
              "  <tbody>\n",
              "    <tr>\n",
              "      <th>0</th>\n",
              "      <td>3</td>\n",
              "      <td>Polish cardinal accused of sexual abuse dies a...</td>\n",
              "      <td>2</td>\n",
              "      <td>3</td>\n",
              "      <td>Polish cardinal accused of sexual abuse dies a...</td>\n",
              "      <td>2</td>\n",
              "      <td>3</td>\n",
              "    </tr>\n",
              "    <tr>\n",
              "      <th>1</th>\n",
              "      <td>3</td>\n",
              "      <td>Polish cardinal accused of sexual abuse dies a...</td>\n",
              "      <td>2</td>\n",
              "      <td>3</td>\n",
              "      <td>Syrian satirist questioned over 'Macron' flogg...</td>\n",
              "      <td>1</td>\n",
              "      <td>2</td>\n",
              "    </tr>\n",
              "    <tr>\n",
              "      <th>2</th>\n",
              "      <td>3</td>\n",
              "      <td>Polish cardinal accused of sexual abuse dies a...</td>\n",
              "      <td>2</td>\n",
              "      <td>3</td>\n",
              "      <td>No more bullying': fresh start to U.S.-Mexico ...</td>\n",
              "      <td>2</td>\n",
              "      <td>2</td>\n",
              "    </tr>\n",
              "    <tr>\n",
              "      <th>3</th>\n",
              "      <td>3</td>\n",
              "      <td>Polish cardinal accused of sexual abuse dies a...</td>\n",
              "      <td>2</td>\n",
              "      <td>3</td>\n",
              "      <td>Pompeo says Europe, U.S. need to work together...</td>\n",
              "      <td>2</td>\n",
              "      <td>1</td>\n",
              "    </tr>\n",
              "    <tr>\n",
              "      <th>4</th>\n",
              "      <td>3</td>\n",
              "      <td>Polish cardinal accused of sexual abuse dies a...</td>\n",
              "      <td>2</td>\n",
              "      <td>3</td>\n",
              "      <td>Portugal's president ponders COVID-19 state of...</td>\n",
              "      <td>1</td>\n",
              "      <td>5</td>\n",
              "    </tr>\n",
              "  </tbody>\n",
              "</table>\n",
              "</div>"
            ],
            "text/plain": [
              "   UserID  ... Ratings_y\n",
              "0       3  ...         3\n",
              "1       3  ...         2\n",
              "2       3  ...         2\n",
              "3       3  ...         1\n",
              "4       3  ...         5\n",
              "\n",
              "[5 rows x 7 columns]"
            ]
          },
          "metadata": {
            "tags": []
          },
          "execution_count": 35
        }
      ]
    },
    {
      "cell_type": "code",
      "metadata": {
        "id": "wtzzT0iwfxLG"
      },
      "source": [
        "selfjoined = selfjoined[selfjoined['ArticleID_x']<selfjoined['ArticleID_y']]"
      ],
      "execution_count": null,
      "outputs": []
    },
    {
      "cell_type": "code",
      "metadata": {
        "id": "t9U91MX2fz1u"
      },
      "source": [
        "import numpy as np\r\n",
        "selfjoined['r1r2'] = selfjoined['Ratings_x']*selfjoined['Ratings_y']\r\n",
        "selfjoined['r1square'] = np.square(selfjoined['Ratings_x'])\r\n",
        "selfjoined['r2square'] = np.square(selfjoined['Ratings_y'])"
      ],
      "execution_count": null,
      "outputs": []
    },
    {
      "cell_type": "code",
      "metadata": {
        "colab": {
          "base_uri": "https://localhost:8080/",
          "height": 204
        },
        "id": "1ygLuambf3T2",
        "outputId": "9fd36803-81cf-4531-ad63-308d0edbc197"
      },
      "source": [
        "selfjoined.head(5)"
      ],
      "execution_count": null,
      "outputs": [
        {
          "output_type": "execute_result",
          "data": {
            "text/html": [
              "<div>\n",
              "<style scoped>\n",
              "    .dataframe tbody tr th:only-of-type {\n",
              "        vertical-align: middle;\n",
              "    }\n",
              "\n",
              "    .dataframe tbody tr th {\n",
              "        vertical-align: top;\n",
              "    }\n",
              "\n",
              "    .dataframe thead th {\n",
              "        text-align: right;\n",
              "    }\n",
              "</style>\n",
              "<table border=\"1\" class=\"dataframe\">\n",
              "  <thead>\n",
              "    <tr style=\"text-align: right;\">\n",
              "      <th></th>\n",
              "      <th>UserID</th>\n",
              "      <th>ArticleID_x</th>\n",
              "      <th>count_x</th>\n",
              "      <th>Ratings_x</th>\n",
              "      <th>ArticleID_y</th>\n",
              "      <th>count_y</th>\n",
              "      <th>Ratings_y</th>\n",
              "      <th>r1r2</th>\n",
              "      <th>r1square</th>\n",
              "      <th>r2square</th>\n",
              "    </tr>\n",
              "  </thead>\n",
              "  <tbody>\n",
              "    <tr>\n",
              "      <th>1</th>\n",
              "      <td>3</td>\n",
              "      <td>Polish cardinal accused of sexual abuse dies a...</td>\n",
              "      <td>2</td>\n",
              "      <td>3</td>\n",
              "      <td>Syrian satirist questioned over 'Macron' flogg...</td>\n",
              "      <td>1</td>\n",
              "      <td>2</td>\n",
              "      <td>6</td>\n",
              "      <td>9</td>\n",
              "      <td>4</td>\n",
              "    </tr>\n",
              "    <tr>\n",
              "      <th>3</th>\n",
              "      <td>3</td>\n",
              "      <td>Polish cardinal accused of sexual abuse dies a...</td>\n",
              "      <td>2</td>\n",
              "      <td>3</td>\n",
              "      <td>Pompeo says Europe, U.S. need to work together...</td>\n",
              "      <td>2</td>\n",
              "      <td>1</td>\n",
              "      <td>3</td>\n",
              "      <td>9</td>\n",
              "      <td>1</td>\n",
              "    </tr>\n",
              "    <tr>\n",
              "      <th>4</th>\n",
              "      <td>3</td>\n",
              "      <td>Polish cardinal accused of sexual abuse dies a...</td>\n",
              "      <td>2</td>\n",
              "      <td>3</td>\n",
              "      <td>Portugal's president ponders COVID-19 state of...</td>\n",
              "      <td>1</td>\n",
              "      <td>5</td>\n",
              "      <td>15</td>\n",
              "      <td>9</td>\n",
              "      <td>25</td>\n",
              "    </tr>\n",
              "    <tr>\n",
              "      <th>10</th>\n",
              "      <td>3</td>\n",
              "      <td>No more bullying': fresh start to U.S.-Mexico ...</td>\n",
              "      <td>2</td>\n",
              "      <td>2</td>\n",
              "      <td>Polish cardinal accused of sexual abuse dies a...</td>\n",
              "      <td>2</td>\n",
              "      <td>3</td>\n",
              "      <td>6</td>\n",
              "      <td>4</td>\n",
              "      <td>9</td>\n",
              "    </tr>\n",
              "    <tr>\n",
              "      <th>11</th>\n",
              "      <td>3</td>\n",
              "      <td>No more bullying': fresh start to U.S.-Mexico ...</td>\n",
              "      <td>2</td>\n",
              "      <td>2</td>\n",
              "      <td>Syrian satirist questioned over 'Macron' flogg...</td>\n",
              "      <td>1</td>\n",
              "      <td>2</td>\n",
              "      <td>4</td>\n",
              "      <td>4</td>\n",
              "      <td>4</td>\n",
              "    </tr>\n",
              "  </tbody>\n",
              "</table>\n",
              "</div>"
            ],
            "text/plain": [
              "    UserID  ... r2square\n",
              "1        3  ...        4\n",
              "3        3  ...        1\n",
              "4        3  ...       25\n",
              "10       3  ...        9\n",
              "11       3  ...        4\n",
              "\n",
              "[5 rows x 10 columns]"
            ]
          },
          "metadata": {
            "tags": []
          },
          "execution_count": 38
        }
      ]
    },
    {
      "cell_type": "code",
      "metadata": {
        "colab": {
          "base_uri": "https://localhost:8080/",
          "height": 357
        },
        "id": "WNRiRLE0f8KE",
        "outputId": "e4082db1-5954-4546-c5ad-aa080fec15de"
      },
      "source": [
        "aggdata=selfjoined.groupby(['ArticleID_x','ArticleID_y'])['Ratings_x','Ratings_y','r1r2','r1square','r2square','count_x','count_y'].sum()\r\n",
        "aggdata.head(5)"
      ],
      "execution_count": null,
      "outputs": [
        {
          "output_type": "stream",
          "text": [
            "/usr/local/lib/python3.6/dist-packages/ipykernel_launcher.py:1: FutureWarning: Indexing with multiple keys (implicitly converted to a tuple of keys) will be deprecated, use a list instead.\n",
            "  \"\"\"Entry point for launching an IPython kernel.\n"
          ],
          "name": "stderr"
        },
        {
          "output_type": "execute_result",
          "data": {
            "text/html": [
              "<div>\n",
              "<style scoped>\n",
              "    .dataframe tbody tr th:only-of-type {\n",
              "        vertical-align: middle;\n",
              "    }\n",
              "\n",
              "    .dataframe tbody tr th {\n",
              "        vertical-align: top;\n",
              "    }\n",
              "\n",
              "    .dataframe thead th {\n",
              "        text-align: right;\n",
              "    }\n",
              "</style>\n",
              "<table border=\"1\" class=\"dataframe\">\n",
              "  <thead>\n",
              "    <tr style=\"text-align: right;\">\n",
              "      <th></th>\n",
              "      <th></th>\n",
              "      <th>Ratings_x</th>\n",
              "      <th>Ratings_y</th>\n",
              "      <th>r1r2</th>\n",
              "      <th>r1square</th>\n",
              "      <th>r2square</th>\n",
              "      <th>count_x</th>\n",
              "      <th>count_y</th>\n",
              "    </tr>\n",
              "    <tr>\n",
              "      <th>ArticleID_x</th>\n",
              "      <th>ArticleID_y</th>\n",
              "      <th></th>\n",
              "      <th></th>\n",
              "      <th></th>\n",
              "      <th></th>\n",
              "      <th></th>\n",
              "      <th></th>\n",
              "      <th></th>\n",
              "    </tr>\n",
              "  </thead>\n",
              "  <tbody>\n",
              "    <tr>\n",
              "      <th rowspan=\"5\" valign=\"top\">Australia alleges military carried out unlawful killings in Afghanistan</th>\n",
              "      <th>COVID-19 cases soar in Brazil's largest indigenous reservation</th>\n",
              "      <td>5</td>\n",
              "      <td>5</td>\n",
              "      <td>8</td>\n",
              "      <td>17</td>\n",
              "      <td>17</td>\n",
              "      <td>6</td>\n",
              "      <td>6</td>\n",
              "    </tr>\n",
              "    <tr>\n",
              "      <th>Factbox: As mediation calls mount, who has leverage in Ethiopia?</th>\n",
              "      <td>4</td>\n",
              "      <td>2</td>\n",
              "      <td>8</td>\n",
              "      <td>16</td>\n",
              "      <td>4</td>\n",
              "      <td>3</td>\n",
              "      <td>2</td>\n",
              "    </tr>\n",
              "    <tr>\n",
              "      <th>France reports 271 new COVID-19 deaths</th>\n",
              "      <td>4</td>\n",
              "      <td>4</td>\n",
              "      <td>16</td>\n",
              "      <td>16</td>\n",
              "      <td>16</td>\n",
              "      <td>3</td>\n",
              "      <td>2</td>\n",
              "    </tr>\n",
              "    <tr>\n",
              "      <th>Italy has 48 hours to approve new COVID-19 restrictions: Health Minister</th>\n",
              "      <td>4</td>\n",
              "      <td>4</td>\n",
              "      <td>16</td>\n",
              "      <td>16</td>\n",
              "      <td>16</td>\n",
              "      <td>3</td>\n",
              "      <td>3</td>\n",
              "    </tr>\n",
              "    <tr>\n",
              "      <th>Pakistan minister deletes tweet containing Macron Nazi jibe</th>\n",
              "      <td>4</td>\n",
              "      <td>3</td>\n",
              "      <td>12</td>\n",
              "      <td>16</td>\n",
              "      <td>9</td>\n",
              "      <td>3</td>\n",
              "      <td>1</td>\n",
              "    </tr>\n",
              "  </tbody>\n",
              "</table>\n",
              "</div>"
            ],
            "text/plain": [
              "                                                                                                       Ratings_x  ...  count_y\n",
              "ArticleID_x                                        ArticleID_y                                                    ...         \n",
              "Australia alleges military carried out unlawful... COVID-19 cases soar in Brazil's largest indigen...          5  ...        6\n",
              "                                                   Factbox: As mediation calls mount, who has leve...          4  ...        2\n",
              "                                                   France reports 271 new COVID-19 deaths                      4  ...        2\n",
              "                                                   Italy has 48 hours to approve new COVID-19 rest...          4  ...        3\n",
              "                                                   Pakistan minister deletes tweet containing Macr...          4  ...        1\n",
              "\n",
              "[5 rows x 7 columns]"
            ]
          },
          "metadata": {
            "tags": []
          },
          "execution_count": 39
        }
      ]
    },
    {
      "cell_type": "code",
      "metadata": {
        "id": "75TMLux5f_VZ"
      },
      "source": [
        "n=aggdata.shape[0]"
      ],
      "execution_count": null,
      "outputs": []
    },
    {
      "cell_type": "code",
      "metadata": {
        "id": "o-gyuhnOgDCV"
      },
      "source": [
        "aggdata['corelation'] = (n*aggdata['r1r2'] - aggdata['Ratings_x']*aggdata['Ratings_y']) / \\\r\n",
        "np.sqrt((n * aggdata['r1square']  - np.square(aggdata['Ratings_x']))*(n * aggdata['r2square']  - np.square(aggdata['Ratings_y'])))"
      ],
      "execution_count": null,
      "outputs": []
    },
    {
      "cell_type": "code",
      "metadata": {
        "id": "7vtkUr2_gFZ_"
      },
      "source": [
        "aggdata['corelation'] = aggdata['corelation']*n/(n+50)"
      ],
      "execution_count": null,
      "outputs": []
    },
    {
      "cell_type": "code",
      "metadata": {
        "colab": {
          "base_uri": "https://localhost:8080/",
          "height": 204
        },
        "id": "keY9kHGIgInk",
        "outputId": "ee7d8e73-5f97-4e00-dc0d-69de2c3837f7"
      },
      "source": [
        "aggdata.reset_index(inplace=True)\r\n",
        "aggdata.head(5)"
      ],
      "execution_count": null,
      "outputs": [
        {
          "output_type": "execute_result",
          "data": {
            "text/html": [
              "<div>\n",
              "<style scoped>\n",
              "    .dataframe tbody tr th:only-of-type {\n",
              "        vertical-align: middle;\n",
              "    }\n",
              "\n",
              "    .dataframe tbody tr th {\n",
              "        vertical-align: top;\n",
              "    }\n",
              "\n",
              "    .dataframe thead th {\n",
              "        text-align: right;\n",
              "    }\n",
              "</style>\n",
              "<table border=\"1\" class=\"dataframe\">\n",
              "  <thead>\n",
              "    <tr style=\"text-align: right;\">\n",
              "      <th></th>\n",
              "      <th>ArticleID_x</th>\n",
              "      <th>ArticleID_y</th>\n",
              "      <th>Ratings_x</th>\n",
              "      <th>Ratings_y</th>\n",
              "      <th>r1r2</th>\n",
              "      <th>r1square</th>\n",
              "      <th>r2square</th>\n",
              "      <th>count_x</th>\n",
              "      <th>count_y</th>\n",
              "      <th>corelation</th>\n",
              "    </tr>\n",
              "  </thead>\n",
              "  <tbody>\n",
              "    <tr>\n",
              "      <th>0</th>\n",
              "      <td>Australia alleges military carried out unlawfu...</td>\n",
              "      <td>COVID-19 cases soar in Brazil's largest indige...</td>\n",
              "      <td>5</td>\n",
              "      <td>5</td>\n",
              "      <td>8</td>\n",
              "      <td>17</td>\n",
              "      <td>17</td>\n",
              "      <td>6</td>\n",
              "      <td>6</td>\n",
              "      <td>0.309532</td>\n",
              "    </tr>\n",
              "    <tr>\n",
              "      <th>1</th>\n",
              "      <td>Australia alleges military carried out unlawfu...</td>\n",
              "      <td>Factbox: As mediation calls mount, who has lev...</td>\n",
              "      <td>4</td>\n",
              "      <td>2</td>\n",
              "      <td>8</td>\n",
              "      <td>16</td>\n",
              "      <td>4</td>\n",
              "      <td>3</td>\n",
              "      <td>2</td>\n",
              "      <td>0.668874</td>\n",
              "    </tr>\n",
              "    <tr>\n",
              "      <th>2</th>\n",
              "      <td>Australia alleges military carried out unlawfu...</td>\n",
              "      <td>France reports 271 new COVID-19 deaths</td>\n",
              "      <td>4</td>\n",
              "      <td>4</td>\n",
              "      <td>16</td>\n",
              "      <td>16</td>\n",
              "      <td>16</td>\n",
              "      <td>3</td>\n",
              "      <td>2</td>\n",
              "      <td>0.668874</td>\n",
              "    </tr>\n",
              "    <tr>\n",
              "      <th>3</th>\n",
              "      <td>Australia alleges military carried out unlawfu...</td>\n",
              "      <td>Italy has 48 hours to approve new COVID-19 res...</td>\n",
              "      <td>4</td>\n",
              "      <td>4</td>\n",
              "      <td>16</td>\n",
              "      <td>16</td>\n",
              "      <td>16</td>\n",
              "      <td>3</td>\n",
              "      <td>3</td>\n",
              "      <td>0.668874</td>\n",
              "    </tr>\n",
              "    <tr>\n",
              "      <th>4</th>\n",
              "      <td>Australia alleges military carried out unlawfu...</td>\n",
              "      <td>Pakistan minister deletes tweet containing Mac...</td>\n",
              "      <td>4</td>\n",
              "      <td>3</td>\n",
              "      <td>12</td>\n",
              "      <td>16</td>\n",
              "      <td>9</td>\n",
              "      <td>3</td>\n",
              "      <td>1</td>\n",
              "      <td>0.668874</td>\n",
              "    </tr>\n",
              "  </tbody>\n",
              "</table>\n",
              "</div>"
            ],
            "text/plain": [
              "                                         ArticleID_x  ... corelation\n",
              "0  Australia alleges military carried out unlawfu...  ...   0.309532\n",
              "1  Australia alleges military carried out unlawfu...  ...   0.668874\n",
              "2  Australia alleges military carried out unlawfu...  ...   0.668874\n",
              "3  Australia alleges military carried out unlawfu...  ...   0.668874\n",
              "4  Australia alleges military carried out unlawfu...  ...   0.668874\n",
              "\n",
              "[5 rows x 10 columns]"
            ]
          },
          "metadata": {
            "tags": []
          },
          "execution_count": 43
        }
      ]
    },
    {
      "cell_type": "code",
      "metadata": {
        "colab": {
          "resources": {
            "http://localhost:8080/nbextensions/google.colab/files.js": {
              "data": "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",
              "ok": true,
              "headers": [
                [
                  "content-type",
                  "application/javascript"
                ]
              ],
              "status": 200,
              "status_text": ""
            }
          },
          "base_uri": "https://localhost:8080/",
          "height": 72
        },
        "id": "hCcOrtO_gMne",
        "outputId": "aa3604a2-cce9-4eb0-aab2-b03733c7bafb"
      },
      "source": [
        "from google.colab import files\r\n",
        "uploaded = files.upload()"
      ],
      "execution_count": null,
      "outputs": [
        {
          "output_type": "display_data",
          "data": {
            "text/html": [
              "\n",
              "     <input type=\"file\" id=\"files-df0ff9b1-7d46-4c0b-9ca1-60227d94c182\" name=\"files[]\" multiple disabled\n",
              "        style=\"border:none\" />\n",
              "     <output id=\"result-df0ff9b1-7d46-4c0b-9ca1-60227d94c182\">\n",
              "      Upload widget is only available when the cell has been executed in the\n",
              "      current browser session. Please rerun this cell to enable.\n",
              "      </output>\n",
              "      <script src=\"/nbextensions/google.colab/files.js\"></script> "
            ],
            "text/plain": [
              "<IPython.core.display.HTML object>"
            ]
          },
          "metadata": {
            "tags": []
          }
        },
        {
          "output_type": "stream",
          "text": [
            "Saving reuters.csv to reuters (1).csv\n"
          ],
          "name": "stdout"
        }
      ]
    },
    {
      "cell_type": "code",
      "metadata": {
        "id": "qD-LPUstgVAk"
      },
      "source": [
        "import io\r\n",
        "df_articles = pd.read_csv(io.BytesIO(uploaded['reuters.csv']))"
      ],
      "execution_count": null,
      "outputs": []
    },
    {
      "cell_type": "code",
      "metadata": {
        "colab": {
          "base_uri": "https://localhost:8080/",
          "height": 204
        },
        "id": "_nL6eg4Jga5O",
        "outputId": "692cf2b9-6f6f-427d-840f-7e924eebf1f0"
      },
      "source": [
        "df_articles = df_articles[['Title','Headline']]\r\n",
        "df_articles.head(5)"
      ],
      "execution_count": null,
      "outputs": [
        {
          "output_type": "execute_result",
          "data": {
            "text/html": [
              "<div>\n",
              "<style scoped>\n",
              "    .dataframe tbody tr th:only-of-type {\n",
              "        vertical-align: middle;\n",
              "    }\n",
              "\n",
              "    .dataframe tbody tr th {\n",
              "        vertical-align: top;\n",
              "    }\n",
              "\n",
              "    .dataframe thead th {\n",
              "        text-align: right;\n",
              "    }\n",
              "</style>\n",
              "<table border=\"1\" class=\"dataframe\">\n",
              "  <thead>\n",
              "    <tr style=\"text-align: right;\">\n",
              "      <th></th>\n",
              "      <th>Title</th>\n",
              "      <th>Headline</th>\n",
              "    </tr>\n",
              "  </thead>\n",
              "  <tbody>\n",
              "    <tr>\n",
              "      <th>0</th>\n",
              "      <td>Armenia, Azerbaijan agree to defuse Nagorno-Ka...</td>\n",
              "      <td>GENEVA (Reuters) - The foreign ministers of Ar...</td>\n",
              "    </tr>\n",
              "    <tr>\n",
              "      <th>1</th>\n",
              "      <td>Dealing with Trump presidency nemesis Iran won...</td>\n",
              "      <td>WASHINGTON (Reuters) - When reality TV star Do...</td>\n",
              "    </tr>\n",
              "    <tr>\n",
              "      <th>2</th>\n",
              "      <td>Exclusive: Russian hackers targeted California...</td>\n",
              "      <td>WASHINGTON (Reuters) - The group of Russian ha...</td>\n",
              "    </tr>\n",
              "    <tr>\n",
              "      <th>3</th>\n",
              "      <td>Spain to send more police to Senegal to curb i...</td>\n",
              "      <td>DAKAR (Reuters) - Spain will increase its poli...</td>\n",
              "    </tr>\n",
              "    <tr>\n",
              "      <th>4</th>\n",
              "      <td>Canada expects six million COVID-19 vaccine do...</td>\n",
              "      <td>(Reuters) - Canada expects to receive six mill...</td>\n",
              "    </tr>\n",
              "  </tbody>\n",
              "</table>\n",
              "</div>"
            ],
            "text/plain": [
              "                                               Title                                           Headline\n",
              "0  Armenia, Azerbaijan agree to defuse Nagorno-Ka...  GENEVA (Reuters) - The foreign ministers of Ar...\n",
              "1  Dealing with Trump presidency nemesis Iran won...  WASHINGTON (Reuters) - When reality TV star Do...\n",
              "2  Exclusive: Russian hackers targeted California...  WASHINGTON (Reuters) - The group of Russian ha...\n",
              "3  Spain to send more police to Senegal to curb i...  DAKAR (Reuters) - Spain will increase its poli...\n",
              "4  Canada expects six million COVID-19 vaccine do...  (Reuters) - Canada expects to receive six mill..."
            ]
          },
          "metadata": {
            "tags": []
          },
          "execution_count": 46
        }
      ]
    },
    {
      "cell_type": "code",
      "metadata": {
        "id": "ye5vVHmYgeZN"
      },
      "source": [
        "df_articles.drop_duplicates(subset=None, keep='first', inplace=True)"
      ],
      "execution_count": null,
      "outputs": []
    },
    {
      "cell_type": "code",
      "metadata": {
        "id": "Kf99cYSmgh3z"
      },
      "source": [
        "aggdata1=aggdata.merge(df_articles,left_on='ArticleID_x',right_on='Title')\r\n",
        "aggdata2=aggdata1.merge(df_articles,left_on='ArticleID_y',right_on='Title')"
      ],
      "execution_count": null,
      "outputs": []
    },
    {
      "cell_type": "code",
      "metadata": {
        "colab": {
          "base_uri": "https://localhost:8080/",
          "height": 1000
        },
        "id": "IxhDL3HMgk1s",
        "outputId": "bb9b0393-1354-4096-c61e-e57e978e37c7"
      },
      "source": [
        "aggdata2.head(20)"
      ],
      "execution_count": null,
      "outputs": [
        {
          "output_type": "execute_result",
          "data": {
            "text/html": [
              "<div>\n",
              "<style scoped>\n",
              "    .dataframe tbody tr th:only-of-type {\n",
              "        vertical-align: middle;\n",
              "    }\n",
              "\n",
              "    .dataframe tbody tr th {\n",
              "        vertical-align: top;\n",
              "    }\n",
              "\n",
              "    .dataframe thead th {\n",
              "        text-align: right;\n",
              "    }\n",
              "</style>\n",
              "<table border=\"1\" class=\"dataframe\">\n",
              "  <thead>\n",
              "    <tr style=\"text-align: right;\">\n",
              "      <th></th>\n",
              "      <th>ArticleID_x</th>\n",
              "      <th>ArticleID_y</th>\n",
              "      <th>Ratings_x</th>\n",
              "      <th>Ratings_y</th>\n",
              "      <th>r1r2</th>\n",
              "      <th>r1square</th>\n",
              "      <th>r2square</th>\n",
              "      <th>count_x</th>\n",
              "      <th>count_y</th>\n",
              "      <th>corelation</th>\n",
              "      <th>Title_x</th>\n",
              "      <th>Headline_x</th>\n",
              "      <th>Title_y</th>\n",
              "      <th>Headline_y</th>\n",
              "    </tr>\n",
              "  </thead>\n",
              "  <tbody>\n",
              "    <tr>\n",
              "      <th>0</th>\n",
              "      <td>Australia alleges military carried out unlawfu...</td>\n",
              "      <td>COVID-19 cases soar in Brazil's largest indige...</td>\n",
              "      <td>5</td>\n",
              "      <td>5</td>\n",
              "      <td>8</td>\n",
              "      <td>17</td>\n",
              "      <td>17</td>\n",
              "      <td>6</td>\n",
              "      <td>6</td>\n",
              "      <td>0.309532</td>\n",
              "      <td>Australia alleges military carried out unlawfu...</td>\n",
              "      <td>SYDNEY (Reuters) - The head of Australia’s Def...</td>\n",
              "      <td>COVID-19 cases soar in Brazil's largest indige...</td>\n",
              "      <td>BRASILIA (Reuters) - The coronavirus has sprea...</td>\n",
              "    </tr>\n",
              "    <tr>\n",
              "      <th>1</th>\n",
              "      <td>Australia alleges military carried out unlawfu...</td>\n",
              "      <td>Factbox: As mediation calls mount, who has lev...</td>\n",
              "      <td>4</td>\n",
              "      <td>2</td>\n",
              "      <td>8</td>\n",
              "      <td>16</td>\n",
              "      <td>4</td>\n",
              "      <td>3</td>\n",
              "      <td>2</td>\n",
              "      <td>0.668874</td>\n",
              "      <td>Australia alleges military carried out unlawfu...</td>\n",
              "      <td>SYDNEY (Reuters) - The head of Australia’s Def...</td>\n",
              "      <td>Factbox: As mediation calls mount, who has lev...</td>\n",
              "      <td>NAIROBI (Reuters) - Ethiopia has rebuffed atte...</td>\n",
              "    </tr>\n",
              "    <tr>\n",
              "      <th>2</th>\n",
              "      <td>COVID-19 cases soar in Brazil's largest indige...</td>\n",
              "      <td>Factbox: As mediation calls mount, who has lev...</td>\n",
              "      <td>5</td>\n",
              "      <td>7</td>\n",
              "      <td>22</td>\n",
              "      <td>17</td>\n",
              "      <td>29</td>\n",
              "      <td>6</td>\n",
              "      <td>4</td>\n",
              "      <td>0.662669</td>\n",
              "      <td>COVID-19 cases soar in Brazil's largest indige...</td>\n",
              "      <td>BRASILIA (Reuters) - The coronavirus has sprea...</td>\n",
              "      <td>Factbox: As mediation calls mount, who has lev...</td>\n",
              "      <td>NAIROBI (Reuters) - Ethiopia has rebuffed atte...</td>\n",
              "    </tr>\n",
              "    <tr>\n",
              "      <th>3</th>\n",
              "      <td>Czechs mark anniversary of Velvet Revolution a...</td>\n",
              "      <td>Factbox: As mediation calls mount, who has lev...</td>\n",
              "      <td>3</td>\n",
              "      <td>5</td>\n",
              "      <td>15</td>\n",
              "      <td>9</td>\n",
              "      <td>25</td>\n",
              "      <td>1</td>\n",
              "      <td>2</td>\n",
              "      <td>0.668874</td>\n",
              "      <td>Czechs mark anniversary of Velvet Revolution a...</td>\n",
              "      <td>PRAGUE (Reuters) - Czechs on Tuesday marked mo...</td>\n",
              "      <td>Factbox: As mediation calls mount, who has lev...</td>\n",
              "      <td>NAIROBI (Reuters) - Ethiopia has rebuffed atte...</td>\n",
              "    </tr>\n",
              "    <tr>\n",
              "      <th>4</th>\n",
              "      <td>Exclusive: Russian hackers targeted California...</td>\n",
              "      <td>Factbox: As mediation calls mount, who has lev...</td>\n",
              "      <td>3</td>\n",
              "      <td>5</td>\n",
              "      <td>15</td>\n",
              "      <td>9</td>\n",
              "      <td>25</td>\n",
              "      <td>3</td>\n",
              "      <td>2</td>\n",
              "      <td>0.668874</td>\n",
              "      <td>Exclusive: Russian hackers targeted California...</td>\n",
              "      <td>WASHINGTON (Reuters) - The group of Russian ha...</td>\n",
              "      <td>Factbox: As mediation calls mount, who has lev...</td>\n",
              "      <td>NAIROBI (Reuters) - Ethiopia has rebuffed atte...</td>\n",
              "    </tr>\n",
              "    <tr>\n",
              "      <th>5</th>\n",
              "      <td>Australia alleges military carried out unlawfu...</td>\n",
              "      <td>France reports 271 new COVID-19 deaths</td>\n",
              "      <td>4</td>\n",
              "      <td>4</td>\n",
              "      <td>16</td>\n",
              "      <td>16</td>\n",
              "      <td>16</td>\n",
              "      <td>3</td>\n",
              "      <td>2</td>\n",
              "      <td>0.668874</td>\n",
              "      <td>Australia alleges military carried out unlawfu...</td>\n",
              "      <td>SYDNEY (Reuters) - The head of Australia’s Def...</td>\n",
              "      <td>France reports 271 new COVID-19 deaths</td>\n",
              "      <td>PARIS (Reuters) - The number of people to die ...</td>\n",
              "    </tr>\n",
              "    <tr>\n",
              "      <th>6</th>\n",
              "      <td>COVID-19 cases soar in Brazil's largest indige...</td>\n",
              "      <td>France reports 271 new COVID-19 deaths</td>\n",
              "      <td>4</td>\n",
              "      <td>2</td>\n",
              "      <td>8</td>\n",
              "      <td>16</td>\n",
              "      <td>4</td>\n",
              "      <td>3</td>\n",
              "      <td>2</td>\n",
              "      <td>0.668874</td>\n",
              "      <td>COVID-19 cases soar in Brazil's largest indige...</td>\n",
              "      <td>BRASILIA (Reuters) - The coronavirus has sprea...</td>\n",
              "      <td>France reports 271 new COVID-19 deaths</td>\n",
              "      <td>PARIS (Reuters) - The number of people to die ...</td>\n",
              "    </tr>\n",
              "    <tr>\n",
              "      <th>7</th>\n",
              "      <td>Czechs mark anniversary of Velvet Revolution a...</td>\n",
              "      <td>France reports 271 new COVID-19 deaths</td>\n",
              "      <td>3</td>\n",
              "      <td>2</td>\n",
              "      <td>6</td>\n",
              "      <td>9</td>\n",
              "      <td>4</td>\n",
              "      <td>1</td>\n",
              "      <td>2</td>\n",
              "      <td>0.668874</td>\n",
              "      <td>Czechs mark anniversary of Velvet Revolution a...</td>\n",
              "      <td>PRAGUE (Reuters) - Czechs on Tuesday marked mo...</td>\n",
              "      <td>France reports 271 new COVID-19 deaths</td>\n",
              "      <td>PARIS (Reuters) - The number of people to die ...</td>\n",
              "    </tr>\n",
              "    <tr>\n",
              "      <th>8</th>\n",
              "      <td>Exclusive: Russian hackers targeted California...</td>\n",
              "      <td>France reports 271 new COVID-19 deaths</td>\n",
              "      <td>3</td>\n",
              "      <td>2</td>\n",
              "      <td>6</td>\n",
              "      <td>9</td>\n",
              "      <td>4</td>\n",
              "      <td>3</td>\n",
              "      <td>2</td>\n",
              "      <td>0.668874</td>\n",
              "      <td>Exclusive: Russian hackers targeted California...</td>\n",
              "      <td>WASHINGTON (Reuters) - The group of Russian ha...</td>\n",
              "      <td>France reports 271 new COVID-19 deaths</td>\n",
              "      <td>PARIS (Reuters) - The number of people to die ...</td>\n",
              "    </tr>\n",
              "    <tr>\n",
              "      <th>9</th>\n",
              "      <td>Factbox: As mediation calls mount, who has lev...</td>\n",
              "      <td>France reports 271 new COVID-19 deaths</td>\n",
              "      <td>5</td>\n",
              "      <td>2</td>\n",
              "      <td>10</td>\n",
              "      <td>25</td>\n",
              "      <td>4</td>\n",
              "      <td>2</td>\n",
              "      <td>2</td>\n",
              "      <td>0.668874</td>\n",
              "      <td>Factbox: As mediation calls mount, who has lev...</td>\n",
              "      <td>NAIROBI (Reuters) - Ethiopia has rebuffed atte...</td>\n",
              "      <td>France reports 271 new COVID-19 deaths</td>\n",
              "      <td>PARIS (Reuters) - The number of people to die ...</td>\n",
              "    </tr>\n",
              "    <tr>\n",
              "      <th>10</th>\n",
              "      <td>Australia alleges military carried out unlawfu...</td>\n",
              "      <td>Italy has 48 hours to approve new COVID-19 res...</td>\n",
              "      <td>4</td>\n",
              "      <td>4</td>\n",
              "      <td>16</td>\n",
              "      <td>16</td>\n",
              "      <td>16</td>\n",
              "      <td>3</td>\n",
              "      <td>3</td>\n",
              "      <td>0.668874</td>\n",
              "      <td>Australia alleges military carried out unlawfu...</td>\n",
              "      <td>SYDNEY (Reuters) - The head of Australia’s Def...</td>\n",
              "      <td>Italy has 48 hours to approve new COVID-19 res...</td>\n",
              "      <td>ROME (Reuters) - Italy’s health minister said ...</td>\n",
              "    </tr>\n",
              "    <tr>\n",
              "      <th>11</th>\n",
              "      <td>Dealing with Trump presidency nemesis Iran won...</td>\n",
              "      <td>Italy has 48 hours to approve new COVID-19 res...</td>\n",
              "      <td>5</td>\n",
              "      <td>3</td>\n",
              "      <td>15</td>\n",
              "      <td>25</td>\n",
              "      <td>9</td>\n",
              "      <td>1</td>\n",
              "      <td>3</td>\n",
              "      <td>0.668874</td>\n",
              "      <td>Dealing with Trump presidency nemesis Iran won...</td>\n",
              "      <td>WASHINGTON (Reuters) - When reality TV star Do...</td>\n",
              "      <td>Italy has 48 hours to approve new COVID-19 res...</td>\n",
              "      <td>ROME (Reuters) - Italy’s health minister said ...</td>\n",
              "    </tr>\n",
              "    <tr>\n",
              "      <th>12</th>\n",
              "      <td>Exclusive: Russian hackers targeted California...</td>\n",
              "      <td>Italy has 48 hours to approve new COVID-19 res...</td>\n",
              "      <td>3</td>\n",
              "      <td>2</td>\n",
              "      <td>6</td>\n",
              "      <td>9</td>\n",
              "      <td>4</td>\n",
              "      <td>3</td>\n",
              "      <td>3</td>\n",
              "      <td>0.668874</td>\n",
              "      <td>Exclusive: Russian hackers targeted California...</td>\n",
              "      <td>WASHINGTON (Reuters) - The group of Russian ha...</td>\n",
              "      <td>Italy has 48 hours to approve new COVID-19 res...</td>\n",
              "      <td>ROME (Reuters) - Italy’s health minister said ...</td>\n",
              "    </tr>\n",
              "    <tr>\n",
              "      <th>13</th>\n",
              "      <td>France reports 271 new COVID-19 deaths</td>\n",
              "      <td>Italy has 48 hours to approve new COVID-19 res...</td>\n",
              "      <td>4</td>\n",
              "      <td>4</td>\n",
              "      <td>16</td>\n",
              "      <td>16</td>\n",
              "      <td>16</td>\n",
              "      <td>2</td>\n",
              "      <td>3</td>\n",
              "      <td>0.668874</td>\n",
              "      <td>France reports 271 new COVID-19 deaths</td>\n",
              "      <td>PARIS (Reuters) - The number of people to die ...</td>\n",
              "      <td>Italy has 48 hours to approve new COVID-19 res...</td>\n",
              "      <td>ROME (Reuters) - Italy’s health minister said ...</td>\n",
              "    </tr>\n",
              "    <tr>\n",
              "      <th>14</th>\n",
              "      <td>Australia alleges military carried out unlawfu...</td>\n",
              "      <td>Pakistan minister deletes tweet containing Mac...</td>\n",
              "      <td>4</td>\n",
              "      <td>3</td>\n",
              "      <td>12</td>\n",
              "      <td>16</td>\n",
              "      <td>9</td>\n",
              "      <td>3</td>\n",
              "      <td>1</td>\n",
              "      <td>0.668874</td>\n",
              "      <td>Australia alleges military carried out unlawfu...</td>\n",
              "      <td>SYDNEY (Reuters) - The head of Australia’s Def...</td>\n",
              "      <td>Pakistan minister deletes tweet containing Mac...</td>\n",
              "      <td>PARIS (Reuters) - A Pakistani minister on Sund...</td>\n",
              "    </tr>\n",
              "    <tr>\n",
              "      <th>15</th>\n",
              "      <td>COVID-19 cases soar in Brazil's largest indige...</td>\n",
              "      <td>Pakistan minister deletes tweet containing Mac...</td>\n",
              "      <td>1</td>\n",
              "      <td>3</td>\n",
              "      <td>3</td>\n",
              "      <td>1</td>\n",
              "      <td>9</td>\n",
              "      <td>3</td>\n",
              "      <td>1</td>\n",
              "      <td>0.668874</td>\n",
              "      <td>COVID-19 cases soar in Brazil's largest indige...</td>\n",
              "      <td>BRASILIA (Reuters) - The coronavirus has sprea...</td>\n",
              "      <td>Pakistan minister deletes tweet containing Mac...</td>\n",
              "      <td>PARIS (Reuters) - A Pakistani minister on Sund...</td>\n",
              "    </tr>\n",
              "    <tr>\n",
              "      <th>16</th>\n",
              "      <td>Factbox: As mediation calls mount, who has lev...</td>\n",
              "      <td>Pakistan minister deletes tweet containing Mac...</td>\n",
              "      <td>2</td>\n",
              "      <td>3</td>\n",
              "      <td>6</td>\n",
              "      <td>4</td>\n",
              "      <td>9</td>\n",
              "      <td>2</td>\n",
              "      <td>1</td>\n",
              "      <td>0.668874</td>\n",
              "      <td>Factbox: As mediation calls mount, who has lev...</td>\n",
              "      <td>NAIROBI (Reuters) - Ethiopia has rebuffed atte...</td>\n",
              "      <td>Pakistan minister deletes tweet containing Mac...</td>\n",
              "      <td>PARIS (Reuters) - A Pakistani minister on Sund...</td>\n",
              "    </tr>\n",
              "    <tr>\n",
              "      <th>17</th>\n",
              "      <td>Australia alleges military carried out unlawfu...</td>\n",
              "      <td>Palestinian Authority resuming cooperation wit...</td>\n",
              "      <td>1</td>\n",
              "      <td>5</td>\n",
              "      <td>5</td>\n",
              "      <td>1</td>\n",
              "      <td>25</td>\n",
              "      <td>3</td>\n",
              "      <td>3</td>\n",
              "      <td>0.668874</td>\n",
              "      <td>Australia alleges military carried out unlawfu...</td>\n",
              "      <td>SYDNEY (Reuters) - The head of Australia’s Def...</td>\n",
              "      <td>Palestinian Authority resuming cooperation wit...</td>\n",
              "      <td>RAMALLAH, West Bank (Reuters) - The Palestinia...</td>\n",
              "    </tr>\n",
              "    <tr>\n",
              "      <th>18</th>\n",
              "      <td>COVID-19 cases soar in Brazil's largest indige...</td>\n",
              "      <td>Palestinian Authority resuming cooperation wit...</td>\n",
              "      <td>8</td>\n",
              "      <td>9</td>\n",
              "      <td>36</td>\n",
              "      <td>32</td>\n",
              "      <td>41</td>\n",
              "      <td>6</td>\n",
              "      <td>6</td>\n",
              "      <td>0.664701</td>\n",
              "      <td>COVID-19 cases soar in Brazil's largest indige...</td>\n",
              "      <td>BRASILIA (Reuters) - The coronavirus has sprea...</td>\n",
              "      <td>Palestinian Authority resuming cooperation wit...</td>\n",
              "      <td>RAMALLAH, West Bank (Reuters) - The Palestinia...</td>\n",
              "    </tr>\n",
              "    <tr>\n",
              "      <th>19</th>\n",
              "      <td>Czechs mark anniversary of Velvet Revolution a...</td>\n",
              "      <td>Palestinian Authority resuming cooperation wit...</td>\n",
              "      <td>3</td>\n",
              "      <td>4</td>\n",
              "      <td>12</td>\n",
              "      <td>9</td>\n",
              "      <td>16</td>\n",
              "      <td>1</td>\n",
              "      <td>3</td>\n",
              "      <td>0.668874</td>\n",
              "      <td>Czechs mark anniversary of Velvet Revolution a...</td>\n",
              "      <td>PRAGUE (Reuters) - Czechs on Tuesday marked mo...</td>\n",
              "      <td>Palestinian Authority resuming cooperation wit...</td>\n",
              "      <td>RAMALLAH, West Bank (Reuters) - The Palestinia...</td>\n",
              "    </tr>\n",
              "  </tbody>\n",
              "</table>\n",
              "</div>"
            ],
            "text/plain": [
              "                                          ArticleID_x  ...                                         Headline_y\n",
              "0   Australia alleges military carried out unlawfu...  ...  BRASILIA (Reuters) - The coronavirus has sprea...\n",
              "1   Australia alleges military carried out unlawfu...  ...  NAIROBI (Reuters) - Ethiopia has rebuffed atte...\n",
              "2   COVID-19 cases soar in Brazil's largest indige...  ...  NAIROBI (Reuters) - Ethiopia has rebuffed atte...\n",
              "3   Czechs mark anniversary of Velvet Revolution a...  ...  NAIROBI (Reuters) - Ethiopia has rebuffed atte...\n",
              "4   Exclusive: Russian hackers targeted California...  ...  NAIROBI (Reuters) - Ethiopia has rebuffed atte...\n",
              "5   Australia alleges military carried out unlawfu...  ...  PARIS (Reuters) - The number of people to die ...\n",
              "6   COVID-19 cases soar in Brazil's largest indige...  ...  PARIS (Reuters) - The number of people to die ...\n",
              "7   Czechs mark anniversary of Velvet Revolution a...  ...  PARIS (Reuters) - The number of people to die ...\n",
              "8   Exclusive: Russian hackers targeted California...  ...  PARIS (Reuters) - The number of people to die ...\n",
              "9   Factbox: As mediation calls mount, who has lev...  ...  PARIS (Reuters) - The number of people to die ...\n",
              "10  Australia alleges military carried out unlawfu...  ...  ROME (Reuters) - Italy’s health minister said ...\n",
              "11  Dealing with Trump presidency nemesis Iran won...  ...  ROME (Reuters) - Italy’s health minister said ...\n",
              "12  Exclusive: Russian hackers targeted California...  ...  ROME (Reuters) - Italy’s health minister said ...\n",
              "13             France reports 271 new COVID-19 deaths  ...  ROME (Reuters) - Italy’s health minister said ...\n",
              "14  Australia alleges military carried out unlawfu...  ...  PARIS (Reuters) - A Pakistani minister on Sund...\n",
              "15  COVID-19 cases soar in Brazil's largest indige...  ...  PARIS (Reuters) - A Pakistani minister on Sund...\n",
              "16  Factbox: As mediation calls mount, who has lev...  ...  PARIS (Reuters) - A Pakistani minister on Sund...\n",
              "17  Australia alleges military carried out unlawfu...  ...  RAMALLAH, West Bank (Reuters) - The Palestinia...\n",
              "18  COVID-19 cases soar in Brazil's largest indige...  ...  RAMALLAH, West Bank (Reuters) - The Palestinia...\n",
              "19  Czechs mark anniversary of Velvet Revolution a...  ...  RAMALLAH, West Bank (Reuters) - The Palestinia...\n",
              "\n",
              "[20 rows x 14 columns]"
            ]
          },
          "metadata": {
            "tags": []
          },
          "execution_count": 49
        }
      ]
    },
    {
      "cell_type": "code",
      "metadata": {
        "id": "378rx6iDgorK"
      },
      "source": [
        "def recommendation(Title):\r\n",
        "    recommended_movies = []\r\n",
        "    data =aggdata2[aggdata2['Title_x']==Title]\r\n",
        "    data = data.sort_values(by='corelation',ascending=False)\r\n",
        "    return data"
      ],
      "execution_count": null,
      "outputs": []
    },
    {
      "cell_type": "code",
      "metadata": {
        "colab": {
          "base_uri": "https://localhost:8080/",
          "height": 173
        },
        "id": "RN5H77qbgsk-",
        "outputId": "03a06f43-b097-4242-d5c2-c18fdf3b78e5"
      },
      "source": [
        "collabaritive=recommendation('England will need five days of lockdown for each day relaxed at Christmas: adviser')[['Title_y','corelation']]\r\n",
        "collabaritive['Title'] = collabaritive['Title_y'].str.split(' \\(').str.get(0)\r\n",
        "collabaritive.drop('Title_y',axis=1,inplace=True)\r\n",
        "collabaritive.head(5)"
      ],
      "execution_count": null,
      "outputs": [
        {
          "output_type": "execute_result",
          "data": {
            "text/html": [
              "<div>\n",
              "<style scoped>\n",
              "    .dataframe tbody tr th:only-of-type {\n",
              "        vertical-align: middle;\n",
              "    }\n",
              "\n",
              "    .dataframe tbody tr th {\n",
              "        vertical-align: top;\n",
              "    }\n",
              "\n",
              "    .dataframe thead th {\n",
              "        text-align: right;\n",
              "    }\n",
              "</style>\n",
              "<table border=\"1\" class=\"dataframe\">\n",
              "  <thead>\n",
              "    <tr style=\"text-align: right;\">\n",
              "      <th></th>\n",
              "      <th>corelation</th>\n",
              "      <th>Title</th>\n",
              "    </tr>\n",
              "  </thead>\n",
              "  <tbody>\n",
              "    <tr>\n",
              "      <th>40</th>\n",
              "      <td>0.668874</td>\n",
              "      <td>Taiwan hopes for close U.S. cooperation in cal...</td>\n",
              "    </tr>\n",
              "    <tr>\n",
              "      <th>49</th>\n",
              "      <td>0.668874</td>\n",
              "      <td>Thank you Tegel: Berliners bid emotional farew...</td>\n",
              "    </tr>\n",
              "    <tr>\n",
              "      <th>71</th>\n",
              "      <td>0.668874</td>\n",
              "      <td>Exclusive: Russian hackers targeted California...</td>\n",
              "    </tr>\n",
              "    <tr>\n",
              "      <th>80</th>\n",
              "      <td>0.668874</td>\n",
              "      <td>Japan opens airport coronavirus test lab for d...</td>\n",
              "    </tr>\n",
              "  </tbody>\n",
              "</table>\n",
              "</div>"
            ],
            "text/plain": [
              "    corelation                                              Title\n",
              "40    0.668874  Taiwan hopes for close U.S. cooperation in cal...\n",
              "49    0.668874  Thank you Tegel: Berliners bid emotional farew...\n",
              "71    0.668874  Exclusive: Russian hackers targeted California...\n",
              "80    0.668874  Japan opens airport coronavirus test lab for d..."
            ]
          },
          "metadata": {
            "tags": []
          },
          "execution_count": 51
        }
      ]
    },
    {
      "cell_type": "markdown",
      "metadata": {
        "id": "JYk24FRrjIXL"
      },
      "source": [
        "HYBRID"
      ]
    },
    {
      "cell_type": "code",
      "metadata": {
        "colab": {
          "base_uri": "https://localhost:8080/",
          "height": 359
        },
        "id": "vHtRHl4chU6S",
        "outputId": "bd08eb61-5d89-41ec-c816-cc6cb6c43d9b"
      },
      "source": [
        "contentrating = pd.read_csv('contentrating.csv')\r\n",
        "contentrating.head(10)"
      ],
      "execution_count": null,
      "outputs": [
        {
          "output_type": "execute_result",
          "data": {
            "text/html": [
              "<div>\n",
              "<style scoped>\n",
              "    .dataframe tbody tr th:only-of-type {\n",
              "        vertical-align: middle;\n",
              "    }\n",
              "\n",
              "    .dataframe tbody tr th {\n",
              "        vertical-align: top;\n",
              "    }\n",
              "\n",
              "    .dataframe thead th {\n",
              "        text-align: right;\n",
              "    }\n",
              "</style>\n",
              "<table border=\"1\" class=\"dataframe\">\n",
              "  <thead>\n",
              "    <tr style=\"text-align: right;\">\n",
              "      <th></th>\n",
              "      <th>Unnamed: 0</th>\n",
              "      <th>0</th>\n",
              "      <th>1</th>\n",
              "    </tr>\n",
              "  </thead>\n",
              "  <tbody>\n",
              "    <tr>\n",
              "      <th>0</th>\n",
              "      <td>0</td>\n",
              "      <td>Armenia, Azerbaijan agree to defuse Nagorno-Ka...</td>\n",
              "      <td>1.000000</td>\n",
              "    </tr>\n",
              "    <tr>\n",
              "      <th>1</th>\n",
              "      <td>0</td>\n",
              "      <td>Armenia, Azerbaijan agree to defuse Nagorno-Ka...</td>\n",
              "      <td>0.621874</td>\n",
              "    </tr>\n",
              "    <tr>\n",
              "      <th>2</th>\n",
              "      <td>0</td>\n",
              "      <td>Turkey says Azerbaijan achieved 'sacred succes...</td>\n",
              "      <td>0.430528</td>\n",
              "    </tr>\n",
              "    <tr>\n",
              "      <th>3</th>\n",
              "      <td>0</td>\n",
              "      <td>Armenia, Azerbaijan, Russia say sign deal to e...</td>\n",
              "      <td>0.404577</td>\n",
              "    </tr>\n",
              "    <tr>\n",
              "      <th>4</th>\n",
              "      <td>0</td>\n",
              "      <td>Russia says discussing U.N. presence in Nagorn...</td>\n",
              "      <td>0.383065</td>\n",
              "    </tr>\n",
              "    <tr>\n",
              "      <th>5</th>\n",
              "      <td>0</td>\n",
              "      <td>Azerbaijan's president says deal is signed to ...</td>\n",
              "      <td>0.354005</td>\n",
              "    </tr>\n",
              "    <tr>\n",
              "      <th>6</th>\n",
              "      <td>0</td>\n",
              "      <td>Leader of Nagorno-Karabakh says ceasefire with...</td>\n",
              "      <td>0.344031</td>\n",
              "    </tr>\n",
              "    <tr>\n",
              "      <th>7</th>\n",
              "      <td>0</td>\n",
              "      <td>Putin calls for Turkish involvement in Nagorno...</td>\n",
              "      <td>0.327144</td>\n",
              "    </tr>\n",
              "    <tr>\n",
              "      <th>8</th>\n",
              "      <td>0</td>\n",
              "      <td>Turkey says in talks on how to monitor Karabak...</td>\n",
              "      <td>0.321029</td>\n",
              "    </tr>\n",
              "    <tr>\n",
              "      <th>9</th>\n",
              "      <td>0</td>\n",
              "      <td>Russia reinforces border guards in Armenia aft...</td>\n",
              "      <td>0.318511</td>\n",
              "    </tr>\n",
              "  </tbody>\n",
              "</table>\n",
              "</div>"
            ],
            "text/plain": [
              "   Unnamed: 0                                                  0         1\n",
              "0           0  Armenia, Azerbaijan agree to defuse Nagorno-Ka...  1.000000\n",
              "1           0  Armenia, Azerbaijan agree to defuse Nagorno-Ka...  0.621874\n",
              "2           0  Turkey says Azerbaijan achieved 'sacred succes...  0.430528\n",
              "3           0  Armenia, Azerbaijan, Russia say sign deal to e...  0.404577\n",
              "4           0  Russia says discussing U.N. presence in Nagorn...  0.383065\n",
              "5           0  Azerbaijan's president says deal is signed to ...  0.354005\n",
              "6           0  Leader of Nagorno-Karabakh says ceasefire with...  0.344031\n",
              "7           0  Putin calls for Turkish involvement in Nagorno...  0.327144\n",
              "8           0  Turkey says in talks on how to monitor Karabak...  0.321029\n",
              "9           0  Russia reinforces border guards in Armenia aft...  0.318511"
            ]
          },
          "metadata": {
            "tags": []
          },
          "execution_count": 52
        }
      ]
    },
    {
      "cell_type": "code",
      "metadata": {
        "id": "r75Ux7xohdSD"
      },
      "source": [
        "hybrid=contentrating.merge(collabaritive,left_on='0',right_on='Title')\r\n",
        "hybrid=hybrid[['Title','1','corelation']]\r\n",
        "hybrid['wcorelation'] = (hybrid['1'] + hybrid['corelation'])/2"
      ],
      "execution_count": null,
      "outputs": []
    },
    {
      "cell_type": "code",
      "metadata": {
        "colab": {
          "base_uri": "https://localhost:8080/",
          "height": 173
        },
        "id": "ksHdwWYLhhXW",
        "outputId": "6ba68602-c4d4-435e-a1bc-939eddc91371"
      },
      "source": [
        "hybrid.head(5)"
      ],
      "execution_count": null,
      "outputs": [
        {
          "output_type": "execute_result",
          "data": {
            "text/html": [
              "<div>\n",
              "<style scoped>\n",
              "    .dataframe tbody tr th:only-of-type {\n",
              "        vertical-align: middle;\n",
              "    }\n",
              "\n",
              "    .dataframe tbody tr th {\n",
              "        vertical-align: top;\n",
              "    }\n",
              "\n",
              "    .dataframe thead th {\n",
              "        text-align: right;\n",
              "    }\n",
              "</style>\n",
              "<table border=\"1\" class=\"dataframe\">\n",
              "  <thead>\n",
              "    <tr style=\"text-align: right;\">\n",
              "      <th></th>\n",
              "      <th>Title</th>\n",
              "      <th>1</th>\n",
              "      <th>corelation</th>\n",
              "      <th>wcorelation</th>\n",
              "    </tr>\n",
              "  </thead>\n",
              "  <tbody>\n",
              "    <tr>\n",
              "      <th>0</th>\n",
              "      <td>Japan opens airport coronavirus test lab for d...</td>\n",
              "      <td>0.093250</td>\n",
              "      <td>0.668874</td>\n",
              "      <td>0.381062</td>\n",
              "    </tr>\n",
              "    <tr>\n",
              "      <th>1</th>\n",
              "      <td>Thank you Tegel: Berliners bid emotional farew...</td>\n",
              "      <td>0.045502</td>\n",
              "      <td>0.668874</td>\n",
              "      <td>0.357188</td>\n",
              "    </tr>\n",
              "    <tr>\n",
              "      <th>2</th>\n",
              "      <td>Taiwan hopes for close U.S. cooperation in cal...</td>\n",
              "      <td>0.040129</td>\n",
              "      <td>0.668874</td>\n",
              "      <td>0.354501</td>\n",
              "    </tr>\n",
              "    <tr>\n",
              "      <th>3</th>\n",
              "      <td>Exclusive: Russian hackers targeted California...</td>\n",
              "      <td>0.038720</td>\n",
              "      <td>0.668874</td>\n",
              "      <td>0.353797</td>\n",
              "    </tr>\n",
              "  </tbody>\n",
              "</table>\n",
              "</div>"
            ],
            "text/plain": [
              "                                               Title  ...  wcorelation\n",
              "0  Japan opens airport coronavirus test lab for d...  ...     0.381062\n",
              "1  Thank you Tegel: Berliners bid emotional farew...  ...     0.357188\n",
              "2  Taiwan hopes for close U.S. cooperation in cal...  ...     0.354501\n",
              "3  Exclusive: Russian hackers targeted California...  ...     0.353797\n",
              "\n",
              "[4 rows x 4 columns]"
            ]
          },
          "metadata": {
            "tags": []
          },
          "execution_count": 54
        }
      ]
    },
    {
      "cell_type": "code",
      "metadata": {
        "id": "XEnP4ldEkNpg"
      },
      "source": [
        "hybrid.to_csv('hybridsystem.csv')"
      ],
      "execution_count": null,
      "outputs": []
    }
  ]
}